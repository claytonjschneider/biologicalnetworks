{
 "cells": [
  {
   "cell_type": "markdown",
   "metadata": {},
   "source": [
    "# CSCI 3352 Biological Networks, Spring 2021, Prof. Clauset\n",
    "Submit here: https://canvas.colorado.edu/courses/69236"
   ]
  },
  {
   "cell_type": "markdown",
   "metadata": {},
   "source": [
    "# Problem Set 5 : Predicting missing links in networks\n",
    "\n",
    "***\n",
    "\n",
    "**Name**: Clayton Schneider\n",
    "\n",
    "***\n",
    "\n",
    "This assignment is due on Canvas by **11:55pm on Friday, February 19th**. Your solutions to non-programming questions should be done in Markdown directly below the associated question. Your solutions to computational questions should include any specified Python code and results as well as written commentary on your conclusions.  Remember that you are encouraged to discuss the problems with your classmates, but **you must write all code and solutions on your own** (see syllabus for detailed guidance). There are 102 points total, and 37 pts extra credit.\n",
    "\n",
    "**NOTES**: \n",
    "\n",
    "- Unless a url is given for a data set, you will find the required data on the course Canvas.\n",
    "- If you're not familiar with typesetting math directly in Markdown, you may do your work on paper first and then typeset it later. This [reference guide](https://math.meta.stackexchange.com/questions/5020/mathjax-basic-tutorial-and-quick-reference) provides helpful guidance for writing math in Markdown. \n",
    "- It is **unhelpful** to make your reader interpret numerical output from your code.  If a question asks you to compute some value from the data you should show your code output **AND** write a summary of the results in Markdown directly below your code.\n",
    "\n",
    "***\n",
    "* [Documentation for networkx](https://networkx.github.io/documentation/stable/)\n",
    "\n",
    "[//]: <> (Documentation for igraph Python https://igraph.org/python/ )"
   ]
  },
  {
   "cell_type": "code",
   "execution_count": 222,
   "metadata": {},
   "outputs": [],
   "source": [
    "import networkx as nx\n",
    "import numpy as np\n",
    "import matplotlib\n",
    "import matplotlib.pylab as plt\n",
    "%matplotlib inline\n",
    "\n",
    "import pandas as pd"
   ]
  },
  {
   "cell_type": "markdown",
   "metadata": {},
   "source": [
    "\n",
    "\n",
    "***\n",
    "## Problem 1 : Warm up (10 pts total)\n",
    "\n",
    "For the network $G_\\circ$ given below, calculate by hand and report the `Jaccard coefficient` and `degree product` score values for the following pairs of nodes:\n",
    "* $i=1$ and $j=4$\n",
    "* $i=1$ and $j=5$\n",
    "* $i=4$ and $j=9$\n",
    "* $i=9$ and $j=2$"
   ]
  },
  {
   "cell_type": "code",
   "execution_count": 223,
   "metadata": {},
   "outputs": [
    {
     "data": {
      "image/png": "[encoded data removed]",
      "text/plain": [
       "<Figure size 432x288 with 1 Axes>"
      ]
     },
     "metadata": {},
     "output_type": "display_data"
    }
   ],
   "source": [
    "Go = nx.Graph([(1,2),(1,3),(1,6),(1,7),(1,8),(1,9),(3,4),(3,6),(4,5),(4,2)]) # observed graph Go\n",
    "\n",
    "nx.draw_networkx(Go,with_labels=True,node_size=600,width=2) # draw it pretty\n",
    "limits=plt.axis('off')                                      # turn off axes\n",
    "plt.show() "
   ]
  },
  {
   "cell_type": "markdown",
   "metadata": {},
   "source": [
    "* $J(1,4)=\\frac{2}{7}$, $D(1,4)=18$\n",
    "* $J(1,5)=0$, $D(1,5)=6$\n",
    "* $J(4,9)=0$, $D(4,9)=3$\n",
    "* $J(9,2)=\\frac{1}{2}$, $D(9,2)=2$"
   ]
  },
  {
   "cell_type": "markdown",
   "metadata": {},
   "source": [
    "***\n",
    "## Problem 2 : Where did all the links go? (92 pts total)\n",
    "\n",
    "In this problem, you will implement and systematically evaluate the `baseline`, `Jaccard coefficient` and `degree product` predictors for missing links. As with the missing attribute prediction in PS4, we'll build up this numerical experiment in stages.\n",
    "* First, you'll implement the `baseline`, `Jaccard coefficient`, and `degree product` score functions.\n",
    "* Then, you'll construct an ROC curve and compute its AUC using synthetic data.\n",
    "* After that, you'll construct a *good* test of the 3 link predictors for a single level of _missingness_ $\\alpha$. \n",
    "* And finally, you'll write a wrapper around this function to explore how performance varies as a function of $\\alpha$.\n",
    "\n",
    "For the last two steps, we'll again use a real-world network derived from the genes of the human malaria parasite _P. falciparum_. These genes are located in one of nine highly variable regions (HVRs) in the DBLa domain of the parasite's var protein. In this network, nodes are antigen *genes* of the parasite and two nodes are connected if they contain evidence of past non-homologous *recombination* (basically, if they share a long subsequence).\n",
    "* Visit the [Index of Complex Networks](https://icon.colorado.edu/) and obtain the `HVR_1` network via the ICON entry _Malaria var DBLa HVR networks_."
   ]
  },
  {
   "cell_type": "markdown",
   "metadata": {},
   "source": [
    "### Problem 2-A (12 pts) : baseline, Jaccard, and degree product score functions\n",
    "\n",
    "* Write 3 seperate functions to implement the `predictor_Baseline()`, `predictor_Jaccard()`, and `predictor_DegreeProd()` score functions, as described in Lecture Notes 4. Function interfaces are given below.\n",
    "* Then write a function `apply_Predictors(G,Y)`, which applies the three predictors to a given simple network `G` with list of missing links `Y`. This function should\n",
    "  * first obtain the list of candidate pairs (non-edges in `G`, defined as `X` in the Lecture Notes),\n",
    "  * for each such pair, apply the 3 predictors, and\n",
    "  * store the results in a way that allows you to output a table of the form shown in Lecture Notes 4, with columns `i,j,tau,score_baseline,score_Jaccard,score_DegreePred`\n",
    "* Then,\n",
    "  * run your function on the $G_\\circ$ given below\n",
    "  * sort the rows of the output table by the `score_Jaccard` column, and \n",
    "  * write out the sorted table in the form `{i},{j} : {tau} : {baseline}  {jaccard}  {degree prod}`\n",
    "\n",
    "Hint 1: `networkx` has two built-in functions that may be useful: `jaccard_coefficient()` and `preferential_attachment()`, but note that you will need to write a wrapper around each in order to make them break ties randomly the way we defined in the lecture notes. Also, be warned: these functions return a 'generator'.\n",
    "\n",
    "Hint 2a: I found it useful to have `apply_Predictors(G,Y)` return its results as a 2d numpy array, where the first 2 columns are $i,j$, the 3rd column is the $\\tau$ value indicating if $i,j$ is a missing edge or not, and the last 3 columns give the baseline, jaccard, and degree product scores in that order. This made it straightforward to then sort the rows by the jaccard score, using the `.argsort()` function. You're free to use whatever data structure you want.\n",
    "\n",
    "Hint 2b: I also found it useful to implement a helper function `get_candidateEdges(G)` that took as input `G` and returned as output `X`, the list of non-edges in `G`, which my `apply_Predictors(G,Y)` function calls."
   ]
  },
  {
   "cell_type": "code",
   "execution_count": 224,
   "metadata": {},
   "outputs": [],
   "source": [
    "def predictor_Baseline():\n",
    "    # implements the baseline link predictor\n",
    "    # input : none, because its output is independent of G\n",
    "    # output: score(i,j) = r where r = Uniform(0,1)\n",
    "    \n",
    "    ####################################\n",
    "    ##### do not modify above here #####\n",
    "\n",
    "    return float(np.random.uniform(size=1))\n"
   ]
  },
  {
   "cell_type": "code",
   "execution_count": 225,
   "metadata": {},
   "outputs": [],
   "source": [
    "def predictor_Jaccard(Gx,i,j):\n",
    "    # implements the Jaccard coefficient link predictor\n",
    "    # input : Gx:  a simple networkx graph\n",
    "    #       : i,j: node indices i,j in Gx\n",
    "    # output: score(i,j) = Jaccard(i,j) + Uniform(0,epsilon) for epsilon << 1 (a very small value)\n",
    "\n",
    "    ####################################\n",
    "    ##### do not modify above here #####\n",
    "\n",
    "    i_neighbors = list(Gx.neighbors(i))\n",
    "    j_neighbors = list(Gx.neighbors(j))\n",
    "    \n",
    "    intersect = [nabo for nabo in i_neighbors if nabo in j_neighbors]\n",
    "    union = []\n",
    "    for n in i_neighbors:\n",
    "        union.append(n)\n",
    "    for n in j_neighbors:\n",
    "        union.append(n)\n",
    "    union = list(set(union))\n",
    "    \n",
    "    return float((len(intersect) / (len(union) + 1e-5)) + np.random.uniform(low=-1e-5, high=1e-5, size=1))\n",
    "\n",
    "#     return list(nx.jaccard_coefficient(Gx, [(i, j)]))[0][0] + np.random.uniform(low=-1e-5, high=1e-5, size=1)"
   ]
  },
  {
   "cell_type": "code",
   "execution_count": 226,
   "metadata": {},
   "outputs": [],
   "source": [
    "def predictor_DegreeProd(Gx,i,j):\n",
    "    # implements the baseline link predictor\n",
    "    # input : Gx:  a simple networkx graph\n",
    "    #       : i,j: node indices i,j in Gx\n",
    "    # output: score(i,j) = DegreeProduct(i,j) + Uniform(0,epsilon) for epsilon << 1 (a very small value)\n",
    "\n",
    "    ####################################\n",
    "    ##### do not modify above here #####\n",
    "\n",
    "    return float((Gx.degree(i) * Gx.degree(j)) + np.random.uniform(low=-1e-5, high=1e-5, size=1))\n"
   ]
  },
  {
   "cell_type": "code",
   "execution_count": 227,
   "metadata": {},
   "outputs": [],
   "source": [
    "def apply_Predictors(G,Y):\n",
    "    # input : G, a networkx simple graph\n",
    "    #         Y, list of missing links in G\n",
    "    # output: S, table of the form [ i | j | tau | baseline | jaccard | degree product ]\n",
    "\n",
    "    ####################################\n",
    "    ##### do not modify above here #####\n",
    "    dataset = []\n",
    "    \n",
    "    non_edges = list(nx.non_edges(G))\n",
    "    for edge in Y:\n",
    "        non_edges.append(edge)\n",
    "\n",
    "    for (i, j) in non_edges:\n",
    "        dataset.append([\n",
    "            i,\n",
    "            j,\n",
    "            1 if (i, j) in missing else 0,\n",
    "            predictor_Baseline(),\n",
    "            predictor_Jaccard(G, i, j),\n",
    "            predictor_DegreeProd(G, i, j)])\n",
    "        \n",
    "    return np.array(dataset)"
   ]
  },
  {
   "cell_type": "code",
   "execution_count": 228,
   "metadata": {},
   "outputs": [
    {
     "data": {
      "image/png": "[encoded data removed]",
      "text/plain": [
       "<Figure size 432x288 with 1 Axes>"
      ]
     },
     "metadata": {},
     "output_type": "display_data"
    },
    {
     "name": "stdout",
     "output_type": "stream",
     "text": [
      "['i', 'j', 'tau', 'score_baseline', 'score_Jaccard', 'degree_Pred']\n",
      "2.0 3.0 : 1.0 : 0.725410068086864 : 0.5000041496015744 : 1.9999997092065442\n",
      "4.0 5.0 : 1.0 : 0.6590371044205027 : 0.4999986411758347 : 2.0000010037646208\n",
      "4.0 5.0 : 1.0 : 0.10682565296368163 : 0.49999420078306794 : 2.000006609116366\n",
      "2.0 3.0 : 1.0 : 0.4641366836098294 : 0.49999249296688214 : 2.000000339946998\n",
      "1.0 4.0 : 0.0 : 0.5271424210068809 : 0.33333077485598694 : 3.9999918805641324\n",
      "3.0 6.0 : 0.0 : 0.8415202614215541 : 0.33332778700429305 : 3.999993994634171\n",
      "2.0 4.0 : 0.0 : 0.10857380081408208 : 7.792844559250481e-06 : 2.0000092396698417\n",
      "1.0 5.0 : 0.0 : 0.39894843719693296 : 2.9566731267743873e-06 : 1.9999995050648336\n",
      "2.0 6.0 : 0.0 : 0.412580255701843 : -2.4914322482057516e-06 : 1.999993133982183\n",
      "1.0 6.0 : 0.0 : 0.02503225210290705 : -3.2479822107546857e-06 : 3.9999910160499814\n",
      "3.0 5.0 : 0.0 : 0.6375844378876535 : -6.349007559540961e-06 : 1.9999927605056882\n",
      "2.0 5.0 : 0.0 : 0.6507906898143708 : -9.481681029388705e-06 : 0.99999390129362\n"
     ]
    }
   ],
   "source": [
    "Go      = nx.Graph([(1,2),(1,3),(3,4),(5,6),(4,6)]) # observed graph Go, from Lecture 4\n",
    "missing = [(2,3),(4,5)]                             # list of edges missing from Go\n",
    "\n",
    "nx.draw_networkx(Go,with_labels=True,node_size=600,width=2) # draw it pretty\n",
    "limits=plt.axis('off')                                                             # turn off axes\n",
    "plt.show() \n",
    "\n",
    "####################################\n",
    "##### do not modify above here #####\n",
    "\n",
    "columns = ['i', 'j', 'tau', 'score_baseline', 'score_Jaccard', 'degree_Pred']\n",
    "print(columns)\n",
    "\n",
    "results = apply_Predictors(Go, missing)\n",
    "\n",
    "sortedResults = results[results[:,4].argsort()[::-1]]\n",
    "\n",
    "for row in sortedResults:\n",
    "    print(\n",
    "        row[0], row[1],\n",
    "        ':',\n",
    "        row[2],\n",
    "        ':',\n",
    "        row[3],\n",
    "        ':',\n",
    "        row[4],\n",
    "        ':',\n",
    "        row[5]\n",
    "    )"
   ]
  },
  {
   "cell_type": "markdown",
   "metadata": {},
   "source": [
    "### Problem 2-B (20 pts) : ROC that curve and AUC\n",
    "\n",
    "* Write a function `tabulate_TPR_FPR(S)` that extends the basic score table from `Problem 2-A` to include columns for TPR and FPR values, as described in Lecture Notes 4.\n",
    "* Then write a function `calculate_AUC(TPR,FPR)` that takes as input the TPR and FPR columns of your table, and computes the AUC.\n",
    "* Finally, for each of the three predictors `baseline`, `Jaccard`, and `degree product`, apply your functions to\n",
    "  * compute the TPR and FPR values, and use them to plot a ROC curve (include a $y=x$ reference line)\n",
    "  * *2 pts extra credit* if you plot the three ROC curves on a single plot,\n",
    "  * compute and report the AUC values for each predictor (be sure to label which is which), and\n",
    "  * then comment briefly on the ROC curves, AUC values, and which predictor is better for this graph `Go`.\n",
    "\n",
    "Hint 1: After tabulating the TPR and FPR columns, don't forget to prepend a row for (TPR=0,FPR=0) before you make the ROC plot or compute the AUC.\n",
    "\n",
    "Hint 2: However you decided to store the table will determine how you write these two functions. In my solutions, `S` is a 2d numpy array."
   ]
  },
  {
   "cell_type": "code",
   "execution_count": 229,
   "metadata": {},
   "outputs": [],
   "source": [
    "def tabulate_TPR_FPR(S):\n",
    "    # see Lecture Notes 4\n",
    "    # input : a data structure S containing a table whose rows have the form:\n",
    "    #         [ i j tau score(i,j) ]\n",
    "    #        sorted in descending order of score(i,j)\n",
    "    # output: a data structure T containing a table whose rows have the form:\n",
    "    #         [ i j tau TPR FPR score(i,j) ]\n",
    "    #        sorted descending in score(i,j)\n",
    "\n",
    "    ####################################\n",
    "    ##### do not modify above here #####\n",
    "\n",
    "    # add new columns\n",
    "    S = np.insert(S, 3, 0, axis=1)\n",
    "    S = np.insert(S, 3, 0, axis=1)\n",
    "    \n",
    "    # OH MY GOD I HAD A TYPO HERE \\/ FOR THE LONGEST TIME IT WAS SO FRUSTRATING\n",
    "    # I HAD S[:2] INSTEAD OF S[:, 2]    :(\n",
    "    # I HAD NEGATIVE VALUES FOR FPR WOW THAT WAS DUMB GLAD I FINALLY FOUND IT\n",
    "    # WISH I KNEW HOW TO READ\n",
    "    # THANKS, GRADER PEOPLE, YOUR FEEDBACK IS SO HELPFUL\n",
    "    total_pos = np.sum(S[:,2])\n",
    "    total_neg = len(S) - total_pos\n",
    "    \n",
    "    ell = len(S)\n",
    "    \n",
    "    taus = 0\n",
    "    n_taus = 0\n",
    "    k = 0\n",
    "    while k in range(ell):\n",
    "        taus += S[k, 2]\n",
    "        if total_pos != 0:\n",
    "            TPR = taus / total_pos\n",
    "        else:\n",
    "            TPR = 0\n",
    "        n_taus += (1 - S[k, 2])\n",
    "        if total_neg != 0:\n",
    "            FPR = n_taus / total_neg\n",
    "        else:\n",
    "            FPR = 0\n",
    "        S[k, 3] = TPR\n",
    "        S[k, 4] = FPR\n",
    "        \n",
    "        k += 1\n",
    "    \n",
    "    return S"
   ]
  },
  {
   "cell_type": "code",
   "execution_count": 230,
   "metadata": {},
   "outputs": [],
   "source": [
    "def calculate_AUC(TPR,FPR):\n",
    "    # see Lecture Notes 4\n",
    "    # input : the TPR and FPR columns of your table (which have equal length and where TPR[0]=FPR[0]=0)\n",
    "    # output: the AUC, a scalar on the unit interval\n",
    "\n",
    "    ####################################\n",
    "    ##### do not modify above here #####\n",
    "\n",
    "    AUC = 0\n",
    "    \n",
    "    for i, (tp, fp) in enumerate(zip(TPR, FPR)):\n",
    "        if i == 0:\n",
    "            continue\n",
    "        AUC += tp*(fp - FPR[i-1])\n",
    "        \n",
    "    return AUC"
   ]
  },
  {
   "cell_type": "code",
   "execution_count": 231,
   "metadata": {},
   "outputs": [
    {
     "data": {
      "text/plain": [
       "<matplotlib.legend.Legend at 0x7f63769cc8b0>"
      ]
     },
     "execution_count": 231,
     "metadata": {},
     "output_type": "execute_result"
    },
    {
     "data": {
      "image/png": "[encoded data removed]",
      "text/plain": [
       "<Figure size 432x288 with 1 Axes>"
      ]
     },
     "metadata": {
      "needs_background": "light"
     },
     "output_type": "display_data"
    }
   ],
   "source": [
    "### YOUR CODE HERE\n",
    "columns = ['i', 'j', 'tau', 'score_baseline', 'score_Jaccard', 'degree_Pred']\n",
    "# print(columns)\n",
    "\n",
    "results = apply_Predictors(Go, missing)\n",
    "\n",
    "fig1 = plt.figure(1)\n",
    "plt.plot([0, 1], [0, 1], 'k--')\n",
    "plt.xlabel('False positive rate')\n",
    "plt.ylabel('True positive rate')\n",
    "plt.title('Receiver Operating Characteristic')\n",
    "\n",
    "for score in ['score_baseline', 'score_Jaccard', 'degree_Pred']:\n",
    "    j = columns.index(score)\n",
    "    sortedResults = results[results[:,j].argsort()[::-1]]\n",
    "    sortedResults = np.delete(sortedResults, [k for k in range(len(sortedResults.T)) if ((k >= 3) and (k != j))], axis=1)\n",
    "\n",
    "    S = tabulate_TPR_FPR(sortedResults)\n",
    "    TPR = S[:, 3]\n",
    "    TPR = np.insert(TPR, 0, 0)\n",
    "    FPR = S[:, 4]\n",
    "    FPR = np.insert(FPR, 0, 0)\n",
    "    \n",
    "    AUC = calculate_AUC(TPR, FPR)\n",
    "    \n",
    "    plt.plot(FPR, TPR, label='{}: AUC={}'.format(score, AUC))\n",
    "    \n",
    "plt.legend()"
   ]
  },
  {
   "cell_type": "markdown",
   "metadata": {},
   "source": [
    "Wowee I almost did this wrong... I didn't add any actual \"non-edges\", and was only using missing... Was really confused about why you wanted us to keep getting AUC=0. \n",
    "\n",
    "In this graph, the jaccard coefficient performs perfectly, while the other two perform ~< chance. "
   ]
  },
  {
   "cell_type": "markdown",
   "metadata": {},
   "source": [
    "### Problem 2-C (10 pts)\n",
    "\n",
    "To warm up, load the *HVR_1* network and treat it as a simple graph (edges unweighted and undirected; no multi-edges; no self-loops). Then calculate and report the following.\n",
    "* number of nodes $n$\n",
    "* (undirected) edges $m$\n",
    "* mean degree $\\langle k \\rangle$\n",
    "* clustering coefficient $C$\n",
    "* mean geodesic distance $\\langle \\ell \\rangle$\n",
    "* the CCDF of the degree distribution (use `plot_CCDF(kis)` from `Problem Set 3`)\n",
    "* a `ridiculogram` of the network, using a spring layout"
   ]
  },
  {
   "cell_type": "code",
   "execution_count": 232,
   "metadata": {},
   "outputs": [],
   "source": [
    "def plot_CCDF(kis):\n",
    "    # input : a list of degrees, e.g., from a networkx graph G\n",
    "    # output: a plot of the CCDF of the degree distribution Pr(K>=k) for k>=1\n",
    "    \n",
    "    kmax = max(kis)\n",
    "\n",
    "    # histogram and plot\n",
    "    counts, bins = np.histogram(kis, bins=[i for i in range(kmax+2)], density=True)\n",
    "    cumcounts = np.cumsum(counts)\n",
    "    cumcounts = np.insert(cumcounts,0,0)\n",
    "    plt.loglog(bins[1:-1], 1-cumcounts[1:-1], 'rs', alpha=0.5)\n",
    "    plt.xlabel('Degree, k')\n",
    "    plt.ylabel('Pr(K>=k)')\n",
    "    plt.show()\n",
    "    return"
   ]
  },
  {
   "cell_type": "code",
   "execution_count": 233,
   "metadata": {},
   "outputs": [
    {
     "name": "stdout",
     "output_type": "stream",
     "text": [
      "reading the network file : HVR_1.txt\n",
      "\n",
      "number of nodes, n  = 307\n",
      "number of edges, m  = 2812\n",
      "mean degree,    <k> = 86.16\n",
      "clustering coefficient, C     =  0.59\n",
      "mean geodesic distance, <ell> =  3.52\n"
     ]
    },
    {
     "data": {
      "image/png": "[encoded data removed]",
      "text/plain": [
       "<Figure size 432x288 with 1 Axes>"
      ]
     },
     "metadata": {
      "needs_background": "light"
     },
     "output_type": "display_data"
    },
    {
     "data": {
      "image/png": "[encoded data removed]",
      "text/plain": [
       "<Figure size 432x288 with 1 Axes>"
      ]
     },
     "metadata": {},
     "output_type": "display_data"
    }
   ],
   "source": [
    "# this data set is from :\n",
    "# D. B. Larremore et al., \"A network approach to analyzing highly recombinant malaria parasite genes.\"\n",
    "#                          PLOS Computational Biology 9(10), e1003268 (2013).\n",
    "fname1 = 'HVR_1.txt'\n",
    "\n",
    "# read in the network file (an edge list)\n",
    "print(f'reading the network file : {fname1}\\n')\n",
    "G = nx.read_edgelist('./' + fname1, delimiter=',', nodetype=int)  # import as a simple graph, index nodes by integers (not strings)\n",
    "\n",
    "####################################\n",
    "##### do not modify above here #####\n",
    "\n",
    "n = len(G.nodes())\n",
    "m = len(G.edges())\n",
    "kmean = np.mean(G.degree())\n",
    "C = nx.transitivity(G)\n",
    "ellmean = nx.average_shortest_path_length(G)\n",
    "\n",
    "##### do not modify below here #####\n",
    "####################################\n",
    "\n",
    "print(f'number of nodes, n  = {n}')\n",
    "print(f'number of edges, m  = {m}')\n",
    "print(f'mean degree,    <k> = %5.2f' % kmean)\n",
    "print(f'clustering coefficient, C     = %5.2f' % C)\n",
    "print(f'mean geodesic distance, <ell> = %5.2f' % ellmean)\n",
    "\n",
    "plot_CCDF([k[1] for k in G.degree])\n",
    "nx.draw_networkx(G,with_labels=False,node_size=25,node_color='r',width=1) # default: spring embed, with some options\n",
    "limits=plt.axis('off')  # turn off the bounding box and axis labels\n",
    "plt.show()              # show me the network!"
   ]
  },
  {
   "cell_type": "markdown",
   "metadata": {},
   "source": [
    "### Problem 2-D (30 pts) : a good measurement, once\n",
    "\n",
    "Now we get to play with malaria gene data. Define the edge missingness function $f$ to be one that selects a uniformly random _fraction_ $\\alpha$ of edges in $G$ to observe in $G_\\circ$.\n",
    "\n",
    "Because $f$ is a stochastic function, the AUC we calculate will be a random variable, and we will need to average the AUC over several _repetitions_ to get a good estimate.\n",
    "\n",
    "* Set `nrep=3` and $\\alpha=0.8$, and let each edge $(i,j)\\in G$ be observed in $G_\\circ$ with probability $\\alpha$.\n",
    "* For each repetition, create a new $G_\\circ$, apply all 3 predictors to its set of non-edges, compute and store the AUCs for each predictor\n",
    "* In each repetition, write out its results like `[rep=0] baseline AUC = {a}   Jaccard AUC = {b}   degprod AUC = {c}`\n",
    "* In the *first* repetition only, output a plot of the ROC curves (all on one figure) of the 3 predictors.\n",
    "* Finally, briefly comment about any confirmations or surprises you see in the ROC plot or the AUC results, for each of the predictors, *and* what the relative performance of `Jaccard` vs. `degree product` says about the structure of the network. Refer back to the summary statistics you found in `2-C` to justify your comments.\n",
    "\n",
    "Hint 1: you might be tempted to use the `.copy` functionality in `networkx` or to try a straight assignment `Go=G`. I recommend not doing this, because both are *shallow* copies. Instead, start with a new empty graph like `Go = nx.Graph()` and then iterate through `G.edges()`, using `Go.add_edges_from()` to add each observed edge one at a time.\n",
    "\n",
    "Hint 2: you can check that your code is about right by trying a few different values of $\\alpha$. When I ran it with $\\alpha=0.1$, I found the Jaccard AUC $\\approx0.6$, and with $\\alpha=0.95$, I found degree product AUC $\\approx0.7$. It makes sense that AUC should increase with $\\alpha$, since at higher values, we're making fewer predictions and have more observed edges to work with."
   ]
  },
  {
   "cell_type": "code",
   "execution_count": 234,
   "metadata": {},
   "outputs": [
    {
     "name": "stdout",
     "output_type": "stream",
     "text": [
      "[rep=0] baseline AUC=0.5004719759954864 Jaccard AUC=0.9818273236514028 degprod AUC=0.6924219221171736\n",
      "[rep=1] baseline AUC=0.47318704859834854 Jaccard AUC=0.9474303969942387 degprod AUC=0.6703262067093286\n",
      "[rep=2] baseline AUC=0.4969976856705576 Jaccard AUC=0.9110450921210572 degprod AUC=0.6740979965774219\n"
     ]
    },
    {
     "data": {
      "image/png": "[encoded data removed]",
      "text/plain": [
       "<Figure size 432x288 with 1 Axes>"
      ]
     },
     "metadata": {
      "needs_background": "light"
     },
     "output_type": "display_data"
    }
   ],
   "source": [
    "import random as rnd\n",
    "seed = 698 # your MMYY birthday here\n",
    "rnd.seed(seed)\n",
    "\n",
    "nreps = 3     # number of repetitions to average over\n",
    "alpha = 0.80  # fraction of edges to observe\n",
    "\n",
    "AUCs_base = [] # for storing list of nreps AUCs from baseline\n",
    "AUCs_jacc = [] # for storing list of nreps AUCs from jaccard\n",
    "AUCs_degp = [] # for storing list of nreps AUCs from degree product\n",
    "\n",
    "####################################\n",
    "##### do not modify above here #####\n",
    "\n",
    "for i in range(nreps):\n",
    "    Go = G\n",
    "    missing = []\n",
    "    safe_edges = np.random.uniform(size=len(G.edges))\n",
    "    \n",
    "    # remove 1-alpha sample of edges from G\n",
    "    # and add them to non_edges\n",
    "    for p, edge in enumerate(Go.edges()):\n",
    "        if safe_edges[p] > alpha:\n",
    "            Go.remove_edge(edge[0], edge[1])\n",
    "            missing.append(edge)\n",
    "            \n",
    "    columns = ['i', 'j', 'tau', 'score_baseline', 'score_Jaccard', 'degree_Pred']\n",
    "    # print(columns)\n",
    "\n",
    "    results = apply_Predictors(Go, missing)\n",
    "    \n",
    "    if i == 0:\n",
    "        fig1 = plt.figure(1)\n",
    "        plt.plot([0, 1], [0, 1], 'k--')\n",
    "        plt.xlabel('False positive rate')\n",
    "        plt.ylabel('True positive rate')\n",
    "        plt.title('Receiver Operating Characteristic')\n",
    "\n",
    "    for score in ['score_baseline', 'score_Jaccard', 'degree_Pred']:\n",
    "        j = columns.index(score)\n",
    "        sortedResults = results[results[:,j].argsort()[::-1]]\n",
    "        sortedResults = np.delete(sortedResults, [k for k in range(len(sortedResults.T)) if ((k >= 3) and (k != j))], axis=1)\n",
    "\n",
    "        S = tabulate_TPR_FPR(sortedResults)\n",
    "        TPR = S[:, 3]\n",
    "        TPR = np.insert(TPR, 0, 0)\n",
    "        FPR = S[:, 4]\n",
    "        FPR = np.insert(FPR, 0, 0)\n",
    "\n",
    "        AUC = calculate_AUC(TPR, FPR)\n",
    "        if score == 'score_baseline':\n",
    "            AUCs_base.append(AUC)\n",
    "        elif score == 'score_Jaccard':\n",
    "            AUCs_jacc.append(AUC)\n",
    "        elif score == 'degree_Pred':\n",
    "            AUCs_degp.append(AUC)\n",
    "        else:\n",
    "            raise ValueError\n",
    "\n",
    "        if i == 0:\n",
    "            plt.plot(FPR, TPR, label='{}: AUC={}'.format(score, AUC))\n",
    "            plt.legend()\n",
    "            \n",
    "    print('[rep={}] baseline AUC={} Jaccard AUC={} degprod AUC={}'.format(i, AUCs_base[i], AUCs_jacc[i], AUCs_degp[i]))"
   ]
  },
  {
   "cell_type": "markdown",
   "metadata": {},
   "source": [
    "Again, the jaccard coefficient performs the best. I believe that the poor performance of the degree product predictor means that we really can't rely on that in this graph. I suppose if we could, it would mean that it was non-assortative, whereas this graph most likely is. "
   ]
  },
  {
   "cell_type": "markdown",
   "metadata": {},
   "source": [
    "### Problem 2-E (20 pts) Putting it all together\n",
    "\n",
    "Using the code you wrote for `Problem 2-D` as the core, now write a wrapper that allows you to perform the full numerical experiment to investigate how the 3 link predictors perform as a function of how much of the network is observed. Here, you'll conduct the experiment, record the results, and present them in a nice plot.\n",
    "\n",
    "* Write the wrapper around your `Problem 2-D` code to measure how the mean AUC for each link predictor varies a function of $\\alpha$ on the malaria gene network.\n",
    "\n",
    "* Produce a single `plot` showing all 3 functions, for $\\alpha=\\{0.1, 0.3, 0.5, 0.7, 0.9\\}$ and `nreps=5` (try a smaller number to see how much roughness you're smoothing over).\n",
    "* (*Extra credit 5pts*: use at least 10 evenly-spaced increments of $\\alpha$ between 0 and 1.)\n",
    "\n",
    "* Then, briefly discuss what you see about how the AUC varies by link predictor with $\\alpha$. What trends do you see? Do they go in the direction you would expect? Does anything interesting happen at intermediate values of $\\alpha$? Try to give some intuition as to why this behavior makes sense given what we know about what structures each link predictor exploits, the structural patterns revealed by the summary statistics you calculated in `Problem 2-C`, and what effect different values of $\\alpha$ have on $G_\\circ$.\n",
    "\n",
    "Hint: As in PS4, a key part of such a numerical experiment is storing the intermediate results. For each choice of $\\alpha$, the core code from `Problem 2-D` will produce three AUCs; I stored these, along with $\\alpha$, in a single 4-column numpy array. It was then straightforward to plot each of columns 2,3,4 vs. column 1 to make the target plot. As in PS4, I also found it useful to separate the code for the experiment from the code for the visualization, so that I could tinker with the latter without having to re-run the former. On my laptop, it took less than 2 minutes for 5 repetitions, per value of $\\alpha$."
   ]
  },
  {
   "cell_type": "code",
   "execution_count": 237,
   "metadata": {},
   "outputs": [
    {
     "name": "stdout",
     "output_type": "stream",
     "text": [
      "[rep=0] baseline AUC=0.0 Jaccard AUC=0.0 degprod AUC=0.0\n",
      "[rep=1] baseline AUC=0.0 Jaccard AUC=0.0 degprod AUC=0.0\n",
      "[rep=2] baseline AUC=0.0 Jaccard AUC=0.0 degprod AUC=0.0\n",
      "[rep=3] baseline AUC=0.0 Jaccard AUC=0.0 degprod AUC=0.0\n",
      "[rep=4] baseline AUC=0.0 Jaccard AUC=0.0 degprod AUC=0.0\n",
      "[rep=0] baseline AUC=0.0 Jaccard AUC=0.0 degprod AUC=0.0\n",
      "[rep=1] baseline AUC=0.0 Jaccard AUC=0.0 degprod AUC=0.0\n",
      "[rep=2] baseline AUC=0.0 Jaccard AUC=0.0 degprod AUC=0.0\n",
      "[rep=3] baseline AUC=0.0 Jaccard AUC=0.0 degprod AUC=0.0\n",
      "[rep=4] baseline AUC=0.0 Jaccard AUC=0.0 degprod AUC=0.0\n",
      "[rep=0] baseline AUC=0.0 Jaccard AUC=0.0 degprod AUC=0.0\n",
      "[rep=1] baseline AUC=0.0 Jaccard AUC=0.0 degprod AUC=0.0\n",
      "[rep=2] baseline AUC=0.0 Jaccard AUC=0.0 degprod AUC=0.0\n",
      "[rep=3] baseline AUC=0.0 Jaccard AUC=0.0 degprod AUC=0.0\n",
      "[rep=4] baseline AUC=0.0 Jaccard AUC=0.0 degprod AUC=0.0\n",
      "[rep=0] baseline AUC=0.0 Jaccard AUC=0.0 degprod AUC=0.0\n",
      "[rep=1] baseline AUC=0.0 Jaccard AUC=0.0 degprod AUC=0.0\n",
      "[rep=2] baseline AUC=0.0 Jaccard AUC=0.0 degprod AUC=0.0\n",
      "[rep=3] baseline AUC=0.0 Jaccard AUC=0.0 degprod AUC=0.0\n",
      "[rep=4] baseline AUC=0.0 Jaccard AUC=0.0 degprod AUC=0.0\n",
      "[rep=0] baseline AUC=0.0 Jaccard AUC=0.0 degprod AUC=0.0\n",
      "[rep=1] baseline AUC=0.0 Jaccard AUC=0.0 degprod AUC=0.0\n",
      "[rep=2] baseline AUC=0.0 Jaccard AUC=0.0 degprod AUC=0.0\n",
      "[rep=3] baseline AUC=0.0 Jaccard AUC=0.0 degprod AUC=0.0\n",
      "[rep=4] baseline AUC=0.0 Jaccard AUC=0.0 degprod AUC=0.0\n",
      "[rep=0] baseline AUC=0.0 Jaccard AUC=0.0 degprod AUC=0.0\n",
      "[rep=1] baseline AUC=0.0 Jaccard AUC=0.0 degprod AUC=0.0\n",
      "[rep=2] baseline AUC=0.0 Jaccard AUC=0.0 degprod AUC=0.0\n",
      "[rep=3] baseline AUC=0.0 Jaccard AUC=0.0 degprod AUC=0.0\n",
      "[rep=4] baseline AUC=0.0 Jaccard AUC=0.0 degprod AUC=0.0\n",
      "[rep=0] baseline AUC=0.0 Jaccard AUC=0.0 degprod AUC=0.0\n",
      "[rep=1] baseline AUC=0.0 Jaccard AUC=0.0 degprod AUC=0.0\n",
      "[rep=2] baseline AUC=0.0 Jaccard AUC=0.0 degprod AUC=0.0\n",
      "[rep=3] baseline AUC=0.0 Jaccard AUC=0.0 degprod AUC=0.0\n",
      "[rep=4] baseline AUC=0.0 Jaccard AUC=0.0 degprod AUC=0.0\n",
      "[rep=0] baseline AUC=0.0 Jaccard AUC=0.0 degprod AUC=0.0\n",
      "[rep=1] baseline AUC=0.0 Jaccard AUC=0.0 degprod AUC=0.0\n",
      "[rep=2] baseline AUC=0.0 Jaccard AUC=0.0 degprod AUC=0.0\n",
      "[rep=3] baseline AUC=0.0 Jaccard AUC=0.0 degprod AUC=0.0\n",
      "[rep=4] baseline AUC=0.0 Jaccard AUC=0.0 degprod AUC=0.0\n",
      "[rep=0] baseline AUC=0.0 Jaccard AUC=0.0 degprod AUC=0.0\n",
      "[rep=1] baseline AUC=0.0 Jaccard AUC=0.0 degprod AUC=0.0\n",
      "[rep=2] baseline AUC=0.0 Jaccard AUC=0.0 degprod AUC=0.0\n",
      "[rep=3] baseline AUC=0.0 Jaccard AUC=0.0 degprod AUC=0.0\n",
      "[rep=4] baseline AUC=0.0 Jaccard AUC=0.0 degprod AUC=0.0\n",
      "[rep=0] baseline AUC=0.0 Jaccard AUC=0.0 degprod AUC=0.0\n",
      "[rep=1] baseline AUC=0.0 Jaccard AUC=0.0 degprod AUC=0.0\n",
      "[rep=2] baseline AUC=0.0 Jaccard AUC=0.0 degprod AUC=0.0\n",
      "[rep=3] baseline AUC=0.0 Jaccard AUC=0.0 degprod AUC=0.0\n",
      "[rep=4] baseline AUC=0.0 Jaccard AUC=0.0 degprod AUC=0.0\n"
     ]
    }
   ],
   "source": [
    "import random as rnd\n",
    "seed = 698 # your MMYY birthday here\n",
    "rnd.seed(seed)\n",
    "\n",
    "nreps = 5     # number of repetitions to average over\n",
    "alphas = np.linspace(0, 1, num=10)  # fraction of edges to observe\n",
    "\n",
    "base_means = []\n",
    "jacc_means = []\n",
    "degp_means = []\n",
    "\n",
    "for alpha in alphas:\n",
    "    AUCs_base = [] # for storing list of nreps AUCs from baseline\n",
    "    AUCs_jacc = [] # for storing list of nreps AUCs from jaccard\n",
    "    AUCs_degp = [] # for storing list of nreps AUCs from degree product\n",
    "\n",
    "    ####################################\n",
    "    ##### do not modify above here #####\n",
    "\n",
    "    for i in range(nreps):\n",
    "        Go = G\n",
    "        missing = []\n",
    "        safe_edges = np.random.uniform(size=len(G.edges))\n",
    "\n",
    "        # remove 1-alpha sample of edges from G\n",
    "        # and add them to non_edges\n",
    "        for p, edge in enumerate(Go.edges()):\n",
    "            if safe_edges[p] > alpha:\n",
    "                Go.remove_edge(edge[0], edge[1])\n",
    "                missing.append(edge)\n",
    "\n",
    "        columns = ['i', 'j', 'tau', 'score_baseline', 'score_Jaccard', 'degree_Pred']\n",
    "        # print(columns)\n",
    "\n",
    "        results = apply_Predictors(Go, missing)\n",
    "\n",
    "        for score in ['score_baseline', 'score_Jaccard', 'degree_Pred']:\n",
    "            j = columns.index(score)\n",
    "            sortedResults = results[results[:,j].argsort()[::-1]]\n",
    "            sortedResults = np.delete(sortedResults, [k for k in range(len(sortedResults.T)) if ((k >= 3) and (k != j))], axis=1)\n",
    "\n",
    "            S = tabulate_TPR_FPR(sortedResults)\n",
    "            TPR = S[:, 3]\n",
    "            TPR = np.insert(TPR, 0, 0)\n",
    "            FPR = S[:, 4]\n",
    "            FPR = np.insert(FPR, 0, 0)\n",
    "\n",
    "            AUC = calculate_AUC(TPR, FPR)\n",
    "            if score == 'score_baseline':\n",
    "                AUCs_base.append(AUC)\n",
    "            elif score == 'score_Jaccard':\n",
    "                AUCs_jacc.append(AUC)\n",
    "            elif score == 'degree_Pred':\n",
    "                AUCs_degp.append(AUC)\n",
    "            else:\n",
    "                raise ValueError\n",
    "                \n",
    "    base_means.append(np.mean(AUCs_base))\n",
    "    jacc_means.append(np.mean(AUCs_jacc))\n",
    "    degp_means.append(np.mean(AUCs_degp))"
   ]
  },
  {
   "cell_type": "code",
   "execution_count": 238,
   "metadata": {},
   "outputs": [
    {
     "ename": "ValueError",
     "evalue": "x and y must have same first dimension, but have shapes (10,) and (0,)",
     "output_type": "error",
     "traceback": [
      "\u001b[0;31m---------------------------------------------------------------------------\u001b[0m",
      "\u001b[0;31mValueError\u001b[0m                                Traceback (most recent call last)",
      "\u001b[0;32m<ipython-input-238-a0129a57bf16>\u001b[0m in \u001b[0;36m<module>\u001b[0;34m\u001b[0m\n\u001b[1;32m      5\u001b[0m \u001b[0mplt\u001b[0m\u001b[0;34m.\u001b[0m\u001b[0mtitle\u001b[0m\u001b[0;34m(\u001b[0m\u001b[0;34m'Edge Prediction Method Validity'\u001b[0m\u001b[0;34m)\u001b[0m\u001b[0;34m\u001b[0m\u001b[0;34m\u001b[0m\u001b[0m\n\u001b[1;32m      6\u001b[0m \u001b[0;34m\u001b[0m\u001b[0m\n\u001b[0;32m----> 7\u001b[0;31m \u001b[0mplt\u001b[0m\u001b[0;34m.\u001b[0m\u001b[0mplot\u001b[0m\u001b[0;34m(\u001b[0m\u001b[0malphas\u001b[0m\u001b[0;34m,\u001b[0m \u001b[0mbase_means\u001b[0m\u001b[0;34m,\u001b[0m \u001b[0mlabel\u001b[0m\u001b[0;34m=\u001b[0m\u001b[0;34m'baseline'\u001b[0m\u001b[0;34m)\u001b[0m\u001b[0;34m\u001b[0m\u001b[0;34m\u001b[0m\u001b[0m\n\u001b[0m\u001b[1;32m      8\u001b[0m \u001b[0mplt\u001b[0m\u001b[0;34m.\u001b[0m\u001b[0mplot\u001b[0m\u001b[0;34m(\u001b[0m\u001b[0malphas\u001b[0m\u001b[0;34m,\u001b[0m \u001b[0mjacc_means\u001b[0m\u001b[0;34m,\u001b[0m \u001b[0mlabel\u001b[0m\u001b[0;34m=\u001b[0m\u001b[0;34m'jaccard'\u001b[0m\u001b[0;34m)\u001b[0m\u001b[0;34m\u001b[0m\u001b[0;34m\u001b[0m\u001b[0m\n\u001b[1;32m      9\u001b[0m \u001b[0mplt\u001b[0m\u001b[0;34m.\u001b[0m\u001b[0mplot\u001b[0m\u001b[0;34m(\u001b[0m\u001b[0malphas\u001b[0m\u001b[0;34m,\u001b[0m \u001b[0mdegp_means\u001b[0m\u001b[0;34m,\u001b[0m \u001b[0mlabel\u001b[0m\u001b[0;34m=\u001b[0m\u001b[0;34m'degree product'\u001b[0m\u001b[0;34m)\u001b[0m\u001b[0;34m\u001b[0m\u001b[0;34m\u001b[0m\u001b[0m\n",
      "\u001b[0;32m/usr/lib/python3/dist-packages/matplotlib/pyplot.py\u001b[0m in \u001b[0;36mplot\u001b[0;34m(scalex, scaley, data, *args, **kwargs)\u001b[0m\n\u001b[1;32m   2785\u001b[0m \u001b[0;34m@\u001b[0m\u001b[0mdocstring\u001b[0m\u001b[0;34m.\u001b[0m\u001b[0mcopy\u001b[0m\u001b[0;34m(\u001b[0m\u001b[0mAxes\u001b[0m\u001b[0;34m.\u001b[0m\u001b[0mplot\u001b[0m\u001b[0;34m)\u001b[0m\u001b[0;34m\u001b[0m\u001b[0;34m\u001b[0m\u001b[0m\n\u001b[1;32m   2786\u001b[0m \u001b[0;32mdef\u001b[0m \u001b[0mplot\u001b[0m\u001b[0;34m(\u001b[0m\u001b[0;34m*\u001b[0m\u001b[0margs\u001b[0m\u001b[0;34m,\u001b[0m \u001b[0mscalex\u001b[0m\u001b[0;34m=\u001b[0m\u001b[0;32mTrue\u001b[0m\u001b[0;34m,\u001b[0m \u001b[0mscaley\u001b[0m\u001b[0;34m=\u001b[0m\u001b[0;32mTrue\u001b[0m\u001b[0;34m,\u001b[0m \u001b[0mdata\u001b[0m\u001b[0;34m=\u001b[0m\u001b[0;32mNone\u001b[0m\u001b[0;34m,\u001b[0m \u001b[0;34m**\u001b[0m\u001b[0mkwargs\u001b[0m\u001b[0;34m)\u001b[0m\u001b[0;34m:\u001b[0m\u001b[0;34m\u001b[0m\u001b[0;34m\u001b[0m\u001b[0m\n\u001b[0;32m-> 2787\u001b[0;31m     return gca().plot(\n\u001b[0m\u001b[1;32m   2788\u001b[0m         *args, scalex=scalex, scaley=scaley, **({\"data\": data} if data\n\u001b[1;32m   2789\u001b[0m         is not None else {}), **kwargs)\n",
      "\u001b[0;32m/usr/lib/python3/dist-packages/matplotlib/axes/_axes.py\u001b[0m in \u001b[0;36mplot\u001b[0;34m(self, scalex, scaley, data, *args, **kwargs)\u001b[0m\n\u001b[1;32m   1663\u001b[0m         \"\"\"\n\u001b[1;32m   1664\u001b[0m         \u001b[0mkwargs\u001b[0m \u001b[0;34m=\u001b[0m \u001b[0mcbook\u001b[0m\u001b[0;34m.\u001b[0m\u001b[0mnormalize_kwargs\u001b[0m\u001b[0;34m(\u001b[0m\u001b[0mkwargs\u001b[0m\u001b[0;34m,\u001b[0m \u001b[0mmlines\u001b[0m\u001b[0;34m.\u001b[0m\u001b[0mLine2D\u001b[0m\u001b[0;34m.\u001b[0m\u001b[0m_alias_map\u001b[0m\u001b[0;34m)\u001b[0m\u001b[0;34m\u001b[0m\u001b[0;34m\u001b[0m\u001b[0m\n\u001b[0;32m-> 1665\u001b[0;31m         \u001b[0mlines\u001b[0m \u001b[0;34m=\u001b[0m \u001b[0;34m[\u001b[0m\u001b[0;34m*\u001b[0m\u001b[0mself\u001b[0m\u001b[0;34m.\u001b[0m\u001b[0m_get_lines\u001b[0m\u001b[0;34m(\u001b[0m\u001b[0;34m*\u001b[0m\u001b[0margs\u001b[0m\u001b[0;34m,\u001b[0m \u001b[0mdata\u001b[0m\u001b[0;34m=\u001b[0m\u001b[0mdata\u001b[0m\u001b[0;34m,\u001b[0m \u001b[0;34m**\u001b[0m\u001b[0mkwargs\u001b[0m\u001b[0;34m)\u001b[0m\u001b[0;34m]\u001b[0m\u001b[0;34m\u001b[0m\u001b[0;34m\u001b[0m\u001b[0m\n\u001b[0m\u001b[1;32m   1666\u001b[0m         \u001b[0;32mfor\u001b[0m \u001b[0mline\u001b[0m \u001b[0;32min\u001b[0m \u001b[0mlines\u001b[0m\u001b[0;34m:\u001b[0m\u001b[0;34m\u001b[0m\u001b[0;34m\u001b[0m\u001b[0m\n\u001b[1;32m   1667\u001b[0m             \u001b[0mself\u001b[0m\u001b[0;34m.\u001b[0m\u001b[0madd_line\u001b[0m\u001b[0;34m(\u001b[0m\u001b[0mline\u001b[0m\u001b[0;34m)\u001b[0m\u001b[0;34m\u001b[0m\u001b[0;34m\u001b[0m\u001b[0m\n",
      "\u001b[0;32m/usr/lib/python3/dist-packages/matplotlib/axes/_base.py\u001b[0m in \u001b[0;36m__call__\u001b[0;34m(self, *args, **kwargs)\u001b[0m\n\u001b[1;32m    223\u001b[0m                 \u001b[0mthis\u001b[0m \u001b[0;34m+=\u001b[0m \u001b[0margs\u001b[0m\u001b[0;34m[\u001b[0m\u001b[0;36m0\u001b[0m\u001b[0;34m]\u001b[0m\u001b[0;34m,\u001b[0m\u001b[0;34m\u001b[0m\u001b[0;34m\u001b[0m\u001b[0m\n\u001b[1;32m    224\u001b[0m                 \u001b[0margs\u001b[0m \u001b[0;34m=\u001b[0m \u001b[0margs\u001b[0m\u001b[0;34m[\u001b[0m\u001b[0;36m1\u001b[0m\u001b[0;34m:\u001b[0m\u001b[0;34m]\u001b[0m\u001b[0;34m\u001b[0m\u001b[0;34m\u001b[0m\u001b[0m\n\u001b[0;32m--> 225\u001b[0;31m             \u001b[0;32myield\u001b[0m \u001b[0;32mfrom\u001b[0m \u001b[0mself\u001b[0m\u001b[0;34m.\u001b[0m\u001b[0m_plot_args\u001b[0m\u001b[0;34m(\u001b[0m\u001b[0mthis\u001b[0m\u001b[0;34m,\u001b[0m \u001b[0mkwargs\u001b[0m\u001b[0;34m)\u001b[0m\u001b[0;34m\u001b[0m\u001b[0;34m\u001b[0m\u001b[0m\n\u001b[0m\u001b[1;32m    226\u001b[0m \u001b[0;34m\u001b[0m\u001b[0m\n\u001b[1;32m    227\u001b[0m     \u001b[0;32mdef\u001b[0m \u001b[0mget_next_color\u001b[0m\u001b[0;34m(\u001b[0m\u001b[0mself\u001b[0m\u001b[0;34m)\u001b[0m\u001b[0;34m:\u001b[0m\u001b[0;34m\u001b[0m\u001b[0;34m\u001b[0m\u001b[0m\n",
      "\u001b[0;32m/usr/lib/python3/dist-packages/matplotlib/axes/_base.py\u001b[0m in \u001b[0;36m_plot_args\u001b[0;34m(self, tup, kwargs)\u001b[0m\n\u001b[1;32m    389\u001b[0m             \u001b[0mx\u001b[0m\u001b[0;34m,\u001b[0m \u001b[0my\u001b[0m \u001b[0;34m=\u001b[0m \u001b[0mindex_of\u001b[0m\u001b[0;34m(\u001b[0m\u001b[0mtup\u001b[0m\u001b[0;34m[\u001b[0m\u001b[0;34m-\u001b[0m\u001b[0;36m1\u001b[0m\u001b[0;34m]\u001b[0m\u001b[0;34m)\u001b[0m\u001b[0;34m\u001b[0m\u001b[0;34m\u001b[0m\u001b[0m\n\u001b[1;32m    390\u001b[0m \u001b[0;34m\u001b[0m\u001b[0m\n\u001b[0;32m--> 391\u001b[0;31m         \u001b[0mx\u001b[0m\u001b[0;34m,\u001b[0m \u001b[0my\u001b[0m \u001b[0;34m=\u001b[0m \u001b[0mself\u001b[0m\u001b[0;34m.\u001b[0m\u001b[0m_xy_from_xy\u001b[0m\u001b[0;34m(\u001b[0m\u001b[0mx\u001b[0m\u001b[0;34m,\u001b[0m \u001b[0my\u001b[0m\u001b[0;34m)\u001b[0m\u001b[0;34m\u001b[0m\u001b[0;34m\u001b[0m\u001b[0m\n\u001b[0m\u001b[1;32m    392\u001b[0m \u001b[0;34m\u001b[0m\u001b[0m\n\u001b[1;32m    393\u001b[0m         \u001b[0;32mif\u001b[0m \u001b[0mself\u001b[0m\u001b[0;34m.\u001b[0m\u001b[0mcommand\u001b[0m \u001b[0;34m==\u001b[0m \u001b[0;34m'plot'\u001b[0m\u001b[0;34m:\u001b[0m\u001b[0;34m\u001b[0m\u001b[0;34m\u001b[0m\u001b[0m\n",
      "\u001b[0;32m/usr/lib/python3/dist-packages/matplotlib/axes/_base.py\u001b[0m in \u001b[0;36m_xy_from_xy\u001b[0;34m(self, x, y)\u001b[0m\n\u001b[1;32m    267\u001b[0m         \u001b[0my\u001b[0m \u001b[0;34m=\u001b[0m \u001b[0m_check_1d\u001b[0m\u001b[0;34m(\u001b[0m\u001b[0my\u001b[0m\u001b[0;34m)\u001b[0m\u001b[0;34m\u001b[0m\u001b[0;34m\u001b[0m\u001b[0m\n\u001b[1;32m    268\u001b[0m         \u001b[0;32mif\u001b[0m \u001b[0mx\u001b[0m\u001b[0;34m.\u001b[0m\u001b[0mshape\u001b[0m\u001b[0;34m[\u001b[0m\u001b[0;36m0\u001b[0m\u001b[0;34m]\u001b[0m \u001b[0;34m!=\u001b[0m \u001b[0my\u001b[0m\u001b[0;34m.\u001b[0m\u001b[0mshape\u001b[0m\u001b[0;34m[\u001b[0m\u001b[0;36m0\u001b[0m\u001b[0;34m]\u001b[0m\u001b[0;34m:\u001b[0m\u001b[0;34m\u001b[0m\u001b[0;34m\u001b[0m\u001b[0m\n\u001b[0;32m--> 269\u001b[0;31m             raise ValueError(\"x and y must have same first dimension, but \"\n\u001b[0m\u001b[1;32m    270\u001b[0m                              \"have shapes {} and {}\".format(x.shape, y.shape))\n\u001b[1;32m    271\u001b[0m         \u001b[0;32mif\u001b[0m \u001b[0mx\u001b[0m\u001b[0;34m.\u001b[0m\u001b[0mndim\u001b[0m \u001b[0;34m>\u001b[0m \u001b[0;36m2\u001b[0m \u001b[0;32mor\u001b[0m \u001b[0my\u001b[0m\u001b[0;34m.\u001b[0m\u001b[0mndim\u001b[0m \u001b[0;34m>\u001b[0m \u001b[0;36m2\u001b[0m\u001b[0;34m:\u001b[0m\u001b[0;34m\u001b[0m\u001b[0;34m\u001b[0m\u001b[0m\n",
      "\u001b[0;31mValueError\u001b[0m: x and y must have same first dimension, but have shapes (10,) and (0,)"
     ]
    },
    {
     "data": {
      "image/png": "[encoded data removed]",
      "text/plain": [
       "<Figure size 432x288 with 1 Axes>"
      ]
     },
     "metadata": {
      "needs_background": "light"
     },
     "output_type": "display_data"
    }
   ],
   "source": [
    "# YOUR PLOTTING CODE HERE (so your simulation doesn't need to re-run just to tinker with how the plots look)\n",
    "fig1 = plt.figure(1)\n",
    "plt.xlabel('Missingness')\n",
    "plt.ylabel('Mean AUC')\n",
    "plt.title('Edge Prediction Method Validity')\n",
    "\n",
    "plt.plot(alphas, base_means, label='baseline')\n",
    "plt.plot(alphas, jacc_means, label='jaccard')\n",
    "plt.plot(alphas, degp_means, label='degree product')\n",
    "\n",
    "plt.legend()"
   ]
  },
  {
   "cell_type": "markdown",
   "metadata": {},
   "source": [
    "Your discussion here"
   ]
  },
  {
   "cell_type": "markdown",
   "metadata": {},
   "source": [
    "***\n",
    "***\n",
    "\n",
    "## Problem 3 : Reading the literature (*10 pts extra credit*)\n",
    "\n",
    "Choose a paper from the [Supplemental Reading list on the external course webpage](http://tuvalu.santafe.edu/~aaronc/courses/3352/). Read the paper (the whole paper, not just the abstract). Think about what it says. Then, write 1-3 sentences for each of the following questions in a way that clearly summarizes the work, and its context.\n",
    "* What was the research question?\n",
    "* What was the approach the authors took to answer that question?\n",
    "* What did they do well?\n",
    "* What could they have done better?\n",
    "* What extensions can you envision?\n",
    "\n",
    "\n",
    "Do not copy any text from the paper itself; write your own summary, in your own words in Markdown in the corresponding box below. Be sure to answer each of the five questions. The amount of extra credit will depend on the accuracy and thoughtfulness of your answers.\n",
    "\n",
    "Hint: This is a good way to generate some ideas for your class project (your proposal for that is due on **February 27th**. Also, even if you don't understand everything in the paper, that's okay. Do your best to summarize what you did understand."
   ]
  },
  {
   "cell_type": "markdown",
   "metadata": {},
   "source": [
    "* *What paper did you choose?*<br/>\n",
    "Give the Authors, Title, Publication Venue, Year\n",
    "<br/>\n",
    "\n",
    "* *What was the research question?*<br/>\n",
    "Your answer here\n",
    "<br/>\n",
    "\n",
    "* *What was the approach the authors took to answer that question?*<br/>\n",
    "Your answer here\n",
    "<br/>\n",
    "\n",
    "* *What did they do well?*<br/>\n",
    "Your answer here\n",
    "<br/>\n",
    "\n",
    "* *What could they have done better?*<br/>\n",
    "Your answer here\n",
    "<br/>\n",
    "\n",
    "* *What extensions can you envision?*<br/>\n",
    "Your answer here"
   ]
  },
  {
   "cell_type": "markdown",
   "metadata": {},
   "source": [
    "***\n",
    "***\n",
    "\n",
    "## Problem 4 : Index of Complex Networks (*10 pts extra credit*)\n",
    "\n",
    "The *Index of Complex Networks* (ICON) is the largest index of real-world complex network data sets available. It's not a repository, and instead lists network data sets that can be found elsewhere on the public web. Each record in ICON provides basic information about the network, including its domain, subdomain, size, graph properties, a brief description, bibliographic reference, and instructions or a link for obtaining the data set from its host.\n",
    "\n",
    "For this question, find a biological network data set *that is not currently in ICON* and\n",
    "* [**suggest** a data set at ICON](https://icon.colorado.edu/#!/suggestions), and \n",
    "* **record** below the information that you used to create that suggestion.\n",
    "\n",
    "Follow the guidelines in the [ICON QuickStart Guide](http://santafe.edu/~aaronc/ICON_Suggestion_Guide.pdf) to create your entry. The amount of extra credit will depend on the entry's quality (loosely defined as how little editing I need to do to make it conform to the standards of the index), and no credit will be given for suggestions that duplicate an existing ICON entry (so be sure to check first) or have many missing fields.\n",
    "\n",
    "Hints: Before going looking for network data, take some time to browse ICON in order to get a sense of both what kinds of data it contains already, and the style of its entries. Generally, the best place to find biological network data sets is in the scientific literature ([Google Scholar](https://scholar.google.com) is always a good place to start). Often the networks are mentioned in a published paper, and you can find the data on the authors' website or in the published paper's supplementary materials. Completing the suggestion may require downloading the data files to count the number of nodes and edges, and to record the file size properly. "
   ]
  },
  {
   "cell_type": "markdown",
   "metadata": {},
   "source": [
    "**Your ICON suggestion here**:\n",
    "\n",
    "Title:     <br/>\n",
    "Domain:     <br/>\n",
    "Subdomain:     <br/>\n",
    "Edge type:     <br/>\n",
    "Node type:     <br/>\n",
    "Graph properties:     <br/>\n",
    "Description:     <br/>\n",
    "\n",
    "Source URL (for the paper):     <br/>\n",
    "Citation:     <br/>\n",
    "Hosted by (who hosts the data):     <br/>\n",
    "\n",
    "Network name:     <br/>\n",
    "Nodes:     <br/>\n",
    "Edges:     <br/>\n",
    "Filesize (bytes):     <br/>\n",
    "File type:     <br/>\n",
    "File format:     <br/>\n",
    "File URL: "
   ]
  },
  {
   "cell_type": "markdown",
   "metadata": {},
   "source": [
    "***\n",
    "***\n",
    "\n",
    "## Problem 5 : Netwulf (*10 pts extra credit*)\n",
    "\n",
    "Recently, Ulf Aslak and Benjamin F. Maier published a paper entitled \"[Netwulf: Interactive visualization of networks in Python](https://joss.theoj.org/papers/10.21105/joss.01425)\" in the *Journal of Open Source Software* that describes a python package called `netwulf` for creating network visualizations inside Jupyter notebooks. I haven't had a chance to try it out, but since we all know that the visualization options in `networkx` are pretty poor, it seems like a promising thing to add to this course.\n",
    "\n",
    "For this question, write a small tutorial below that could be made available as a standalone Jupyter notebook to future students of `CSCI 3352 Biological Networks` that \n",
    "* explains how to install the package ([github page here](http://github.com/benmaier/netwulf))\n",
    "* steps through creating a visualization using a toy (very small, stylized) network\n",
    "* explains the adjustment of relevant parameters (be sure to explain which parameters to adjust, and why), and \n",
    "* illustrates both (i) exporting the image as a PNG and (ii) plotting it within a notebook\n",
    "* then, use `netwulf` to create a visualization of one of the network data sets we've seen in class so far.\n",
    "\n",
    "Hint: Imagine what kind of a tutorial *you* would have liked to have read in weeks 1-2 of this course, and then write that tutorial."
   ]
  },
  {
   "cell_type": "code",
   "execution_count": null,
   "metadata": {},
   "outputs": [],
   "source": []
  }
 ],
 "metadata": {
  "kernelspec": {
   "display_name": "Python 3",
   "language": "python",
   "name": "python3"
  },
  "language_info": {
   "codemirror_mode": {
    "name": "ipython",
    "version": 3
   },
   "file_extension": ".py",
   "mimetype": "text/x-python",
   "name": "python",
   "nbconvert_exporter": "python",
   "pygments_lexer": "ipython3",
   "version": "3.8.5"
  }
 },
 "nbformat": 4,
 "nbformat_minor": 4
}
