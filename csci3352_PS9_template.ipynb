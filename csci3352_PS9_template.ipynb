{
 "cells": [
  {
   "cell_type": "markdown",
   "metadata": {},
   "source": [
    "# CSCI 3352 Biological Networks, Spring 2021, Prof. Clauset\n",
    "Submit here: https://canvas.colorado.edu/courses/69236"
   ]
  },
  {
   "cell_type": "markdown",
   "metadata": {},
   "source": [
    "# Problem Set 9 : Metabolic Networks\n",
    "\n",
    "***\n",
    "\n",
    "**Name**: \n",
    "\n",
    "***\n",
    "\n",
    "This assignment is due on Canvas by **11:55pm on Friday, April 16th**. Your solutions to non-programming questions should be done in Markdown directly below the associated question. Your solutions to computational questions should include any specified Python code and results as well as written commentary on your conclusions.  Remember that you are encouraged to discuss the problems with your classmates, but **you must write all code and solutions on your own** (see syllabus for detailed guidance). There are 60 points total, and 35 pts extra credit.\n",
    "\n",
    "**NOTES**: \n",
    "\n",
    "- Unless a url is given for a data set, you will find the required data on the course Canvas.\n",
    "- If you're not familiar with typesetting math directly in Markdown, you may do your work on paper first and then typeset it later. This [reference guide](https://math.meta.stackexchange.com/questions/5020/mathjax-basic-tutorial-and-quick-reference) provides helpful guidance for writing math in Markdown. \n",
    "- It is **unhelpful** to make your reader interpret numerical output from your code.  If a question asks you to compute some value from the data you should show your code output **AND** write a summary of the results in Markdown directly below your code.\n",
    "\n",
    "***\n",
    "* [Documentation for networkx](https://networkx.github.io/documentation/stable/)\n",
    "\n",
    "[//]: <> (Documentation for igraph Python https://igraph.org/python/ )"
   ]
  },
  {
   "cell_type": "code",
   "execution_count": 1,
   "metadata": {},
   "outputs": [],
   "source": [
    "import networkx as nx\n",
    "import numpy as np\n",
    "import matplotlib\n",
    "import matplotlib.pylab as plt\n",
    "\n",
    "%matplotlib inline"
   ]
  },
  {
   "cell_type": "code",
   "execution_count": 2,
   "metadata": {},
   "outputs": [],
   "source": [
    "def drawGz_circular(G,z):\n",
    "    # MODIFY THIS FUNCTION AS NEEDED\n",
    "    # This function draws G as a CIRCULAR LAYOUT with node labels from partition z\n",
    "    #\n",
    "    # input  : G is a networkx graph\n",
    "    #        : z is a dictionary of group labels for G's nodes\n",
    "    # output : a circular layout plot (ignores edge weights)\n",
    "    # \n",
    "    # WARNING: function is optimistic: assumes inputs are properly formatted\n",
    "\n",
    "    colors = ['#d61111','#11c6d6','#d67711','#11d646','#1b11d6','#d611cc'] # map node labels to colors (for the visualization)\n",
    "\n",
    "    node_colors = []\n",
    "    for i in G.nodes():\n",
    "        node_colors.append(colors[int(z[i])])\n",
    "    nsize  = 600\n",
    "    flabel = True\n",
    "\n",
    "    if G.order() > 50:\n",
    "        nsize  = 100\n",
    "        flabel = False\n",
    "        \n",
    "    nx.draw_networkx(G,with_labels=flabel,node_size=nsize,width=2,node_color=node_colors,pos = nx.circular_layout(G)) # draw it pretty\n",
    "    limits=plt.axis('off')                                      # turn off axes \n",
    "    plt.show() \n",
    "\n",
    "    return"
   ]
  },
  {
   "cell_type": "markdown",
   "metadata": {},
   "source": [
    "***\n",
    "## Problem 1 : Metabolic reaction networks and fluxes (*60 pts total*)"
   ]
  },
  {
   "cell_type": "markdown",
   "metadata": {},
   "source": [
    "### Problem 1-A (*10 pts*) : Constructing a metabolite-reaction network\n",
    "\n",
    "Consider the following set of abstract chemical reactions, where $R_i$ is the $i$th reaction, the arrow $\\to$ indicates a one-way reaction while $\\leftrightarrow$ indicates a reaction that could go in either direction.\n",
    "* $R_1$ : $A \\to X_1$\n",
    "* $R_2$ : $X_1 \\to X_2$\n",
    "* $R_3$ : $X_2 \\to X_3$\n",
    "* $R_4$ : $X_2 \\leftrightarrow X_4$\n",
    "* $R_5$ : $X_3 \\to X_5$\n",
    "* $R_6$ : $X_4 \\to X_5$\n",
    "* $R_7$ : $X_4 \\to W$\n",
    "* $R_8$ : $X_3 + 2X_4 + X_5 \\to B$\n",
    "\n",
    "where $A$ is the nutrient input, $B$ is the biomass output and $W$ is waste output.\n",
    "\n",
    "* Construct and visualize a _directed bipartite_ representation of these reactions as a metabolite-reaction graph (see Lecture sketch 10).\n",
    "* Construct and display a _stoichiometric matrix_ representation of these same reactions (the rows should correspond to metabolites, listed in _alphanumeric_ order, and the columns should be reactions in _alphanumeric_ order).\n",
    "\n",
    "Hint: `networkx` doesn't have a native [bipartite](https://networkx.github.io/documentation/stable/reference/algorithms/bipartite.html) data structure, so we'll have to fake it using a `DiGraph` and a partition `z` of the nodes into the two sets."
   ]
  },
  {
   "cell_type": "code",
   "execution_count": 3,
   "metadata": {
    "scrolled": false
   },
   "outputs": [],
   "source": [
    "### YOUR CODE HERE"
   ]
  },
  {
   "cell_type": "markdown",
   "metadata": {},
   "source": [
    "### Problem 1-B (*15 pts*) : One-mode representations\n",
    "\n",
    "Recall from Lecture 11 that there are several different ways to represent metabolic networks. The directed bipartite version from `Problem 1-A` is the kind most amenable to flux balance analysis. But, for structural analyses, the one-mode representations of a `substrate-product graph` and a `reaction network` are more conventional.\n",
    "\n",
    "* Write a function `convertTo_SPGraph()` that takes as input (1) a directed bipartite graph `G` and (2) the partition dictionary `z`, and returns the corresponding substrate-product graph.\n",
    "* Write a function `convertTo_RxnGraph()` that takes as input (1) a directed bipartite graph `G` and (2) the partition dictionary `z`, and returns the corresponding reaction network.\n",
    "* Apply both of your functions to the graph from `Problem 1-A` and display the results using `drawGz_circular()`. Be sure to label which output graph is which.\n",
    "\n",
    "Hint: to make the reaction network, it may be easier to first convert the directed bipartite network into an undirected bipartite network."
   ]
  },
  {
   "cell_type": "code",
   "execution_count": 4,
   "metadata": {},
   "outputs": [],
   "source": [
    "### YOUR FUNCTIONS HERE"
   ]
  },
  {
   "cell_type": "code",
   "execution_count": 5,
   "metadata": {},
   "outputs": [],
   "source": [
    "### YOUR APPLICATION OF THEM HERE"
   ]
  },
  {
   "cell_type": "markdown",
   "metadata": {},
   "source": [
    "### Problem 1-C (*35 pts*) : Just go with the flux\n",
    "\n",
    "The following tables describe two experiments, in the form of minimum $v_\\min$ and maximum $v_\\max$ fluxes through each reaction, and the corresponding optimal flux solution $v_{\\rm sol}$ computed via flux balance analysis on our metabolic pathway.\n",
    "\n",
    "For each experiment, \n",
    "* verify that the flux through the biomass reaction $R_8$ is correct (explain this in words, tracing how the \"units\" of nutrient $A$ get converted into units of intermediate metabolites that add up to the given flux to biomass $B$), and\n",
    "* verify that the FBA solution $v_{\\rm sol}$ produces a _balanced_ set of internal fluxes, i.e., let $\\textbf{S}\\textbf{v}=\\textbf{m}$, and then verify that $m_i=0$ for the $i$th metabolite, unless $i$ is an input or output of the pathway.\n",
    "\n",
    "Show your work.\n",
    "\n",
    "1. Experiment: optimize biomass with zero waste\n",
    "\n",
    "| reaction | $v_\\min$  | $v_\\max$  | $v_{\\rm sol}$ |\n",
    "|---|---|---|---|\n",
    "| $R_1$  | 10 | 10  | 10  |\n",
    "| $R_2$  | 0 | 10  | 10  |\n",
    "| $R_3$  | 0 | 10  | 4.992  |\n",
    "| $R_4$  | -10 | 10  | 5.008  |\n",
    "| $R_5$  | 0 | 10  | 2.492  |\n",
    "| $R_6$  | 0 | 10  | 0.008  |\n",
    "| $R_7$  | 0 | 10  | 0  |\n",
    "| $R_8$  | 0 | 10  | 2.5  |\n",
    "\n",
    "2. Experiment: optimize biomass with some waste\n",
    "\n",
    "| reaction | $v_\\min$  | $v_\\max$  | $v_{\\rm sol}$ |\n",
    "|---|---|---|---|\n",
    "| $R_1$  | 10 | 10  | 10  |\n",
    "| $R_2$  | 0 | 10  | 10  |\n",
    "| $R_3$  | 0 | 10  | 3.877  |\n",
    "| $R_4$  | -10 | 10  | 6.123  |\n",
    "| $R_5$  | 0 | 10  | 1.877  |\n",
    "| $R_6$  | 0 | 10  | 0.123  |\n",
    "| $R_7$  | 2 | 10  | 2  |\n",
    "| $R_8$  | 0 | 10  | 2  |\n",
    "\n",
    "Hint: The flux balance requirement $\\textbf{S}\\textbf{v} =0$ is a matrix multiplication operation, which you can do via `numpy`. The result will be a column-vector of \"metabolite\" terms $m_i$, listed in the order of your metabolites in $G$."
   ]
  },
  {
   "cell_type": "markdown",
   "metadata": {},
   "source": [
    "Your $R_8$ explanation here"
   ]
  },
  {
   "cell_type": "code",
   "execution_count": 6,
   "metadata": {},
   "outputs": [],
   "source": [
    "### YOUR CODE HERE"
   ]
  },
  {
   "cell_type": "markdown",
   "metadata": {},
   "source": [
    "Your explanation here"
   ]
  },
  {
   "cell_type": "markdown",
   "metadata": {},
   "source": [
    "***\n",
    "## Problem 2 : The \"universal metabolic network\"  (*25 pts total extra credit*)\n",
    "\n",
    "The paper Maslov et al. \"[Toolbox model of evolution of prokaryotic metabolic networks and their regulation](https://www.pnas.org/content/106/24/9743).\" _PNAS_ (2009) describes an effort in 2008 to construct a **universal biochemistry network** (or, an estimate of it). Their approach was to take the union of _all_ metabolic pathways contained in the KEGG database.\n",
    "\n",
    "Pathways that occur in many species (common pathways, like \"core\" metabolism) will be well-represented in this network, while pathways that occur in only a few species (rare pathways, perhaps specific to only a small number of species) will only appear if their native species are in KEGG. In this problem, we will investigate the structure of this universal metabolic network, and investigate the degree to which it is _random_."
   ]
  },
  {
   "cell_type": "code",
   "execution_count": 7,
   "metadata": {},
   "outputs": [],
   "source": [
    "def extractRxnGraph_zdict(G):\n",
    "    # MODIFY THIS FUNCTION AS NEEDED\n",
    "    #\n",
    "    # input  : G is a networkx graph\n",
    "    # output : z is a dictionary of reaction (1) and metabolite (0) labels for G's nodes\n",
    "    \n",
    "    z = dict()\n",
    "    for i in G.nodes():\n",
    "        if i[0]=='R':\n",
    "            z.update({i : 1})\n",
    "        else:\n",
    "            z.update({i : 0})\n",
    "\n",
    "    return z"
   ]
  },
  {
   "cell_type": "markdown",
   "metadata": {},
   "source": [
    "### Problem 2-A (*15 pts extra credit*) : Representations and structure\n",
    "\n",
    "* Obtain the `SD1.xls` data file from the paper's webpage. Each row lists a reaction and two metabolites involved in that reaction.\n",
    "* Transform the file into a metabolite-reaction network edge list, so that each row is a single pair of a reaction ID and _one_ of the metabolite IDs involved in it. (A few copy/paste operations.) Delete any excess columns. \n",
    "* Now load the metabolite-reaction edge list into `networkx` as a simple `Graph`.\n",
    "* For each of the **three** representations (reaction-metabolite, substrate-product, and reaction), compute and report the following standard summary statistics:\n",
    "  * number of nodes $n$\n",
    "  * number of edges $m$\n",
    "  * mean degree $\\langle k \\rangle$\n",
    "  * clustering coefficient $C$\n",
    "  * mean geodesic distance $\\langle \\ell \\rangle$\n",
    "  * the CCDF of the degree distribution\n",
    "* In the markdown box below that, compare and contrast the statistics produced by the three representations. What differences do you observe, and why do those differences appear?\n",
    "\n",
    "Hint 1: in the `SD1.xls` file, there are two tabs; you want the one with the larger number of reactions listed. This should produce a network with 11590 edges.\n",
    "\n",
    "Hint 2: use the `plot_CCDF()` from, e.g., `PS5` and the `compute_MGD()` function from `PS3`."
   ]
  },
  {
   "cell_type": "code",
   "execution_count": 8,
   "metadata": {},
   "outputs": [],
   "source": [
    "### HELPER FUNCTIONS HERE"
   ]
  },
  {
   "cell_type": "code",
   "execution_count": 9,
   "metadata": {},
   "outputs": [],
   "source": [
    "### YOUR CODE HERE"
   ]
  },
  {
   "cell_type": "markdown",
   "metadata": {},
   "source": [
    "Your discussion here"
   ]
  },
  {
   "cell_type": "markdown",
   "metadata": {},
   "source": [
    "### Problem 2-B (*15 pts extra credit*) : How random is metabolism?\n",
    "\n",
    "* Use the Chung-Lu model to evaluate the degree to which the (1) clustering coefficient $C$ and (2) mean geodesic distance $\\langle \\ell \\rangle$ for the _substrate-product_ network can be explained by _degree structure alone_.\n",
    "* Discuss your findings in the markdown box below.\n",
    "\n",
    "Hint: use the `plot_nullAndEmpirical()` function from `PS3` to plot each null distribution (based on, e.g., a few hundred random graphs) and its corresponding empirical value together to see how they compare."
   ]
  },
  {
   "cell_type": "code",
   "execution_count": 10,
   "metadata": {},
   "outputs": [],
   "source": [
    "### HELPER FUNCTION HERE"
   ]
  },
  {
   "cell_type": "code",
   "execution_count": 11,
   "metadata": {},
   "outputs": [],
   "source": [
    "### YOUR CODE HERE"
   ]
  },
  {
   "cell_type": "markdown",
   "metadata": {},
   "source": [
    "Your discussion here"
   ]
  },
  {
   "cell_type": "markdown",
   "metadata": {},
   "source": [
    "***\n",
    "***\n",
    "\n",
    "## Problem 3 : Reading the literature (*10 pts extra credit*)\n",
    "\n",
    "Choose a paper from the [Supplemental Reading list on the external course webpage](http://tuvalu.santafe.edu/~aaronc/courses/3352/). Read the paper (the whole paper, not just the abstract). Think about what it says. Then, write 1-3 sentences for each of the following questions in a way that clearly summarizes the work, and its context.\n",
    "* What paper did you choose?\n",
    "* What was the research question?\n",
    "* What was the approach the authors took to answer that question?\n",
    "* What did they do well?\n",
    "* What could they have done better?\n",
    "* What extensions can you envision?\n",
    "\n",
    "\n",
    "Do not copy any text from the paper itself; write your own summary, in your own words in Markdown in the corresponding box below. Be sure to answer each of the five questions. The amount of extra credit will depend on the accuracy and thoughtfulness of your answers.\n",
    "\n",
    "Hint: This is a good way to generate some ideas for your class project (your proposal for that is due on **February 27th**. Also, even if you don't understand everything in the paper, that's okay. Do your best to summarize what you did understand."
   ]
  },
  {
   "cell_type": "markdown",
   "metadata": {},
   "source": [
    "* *What paper did you choose?*<br/>\n",
    "Give the Authors, Title, Publication Venue, Year\n",
    "<br/>\n",
    "\n",
    "* *What was the research question?*<br/>\n",
    "Your answer here\n",
    "<br/>\n",
    "\n",
    "* *What was the approach the authors took to answer that question?*<br/>\n",
    "Your answer here\n",
    "<br/>\n",
    "\n",
    "* *What did they do well?*<br/>\n",
    "Your answer here\n",
    "<br/>\n",
    "\n",
    "* *What could they have done better?*<br/>\n",
    "Your answer here\n",
    "<br/>\n",
    "\n",
    "* *What extensions can you envision?*<br/>\n",
    "Your answer here"
   ]
  },
  {
   "cell_type": "code",
   "execution_count": null,
   "metadata": {},
   "outputs": [],
   "source": []
  }
 ],
 "metadata": {
  "kernelspec": {
   "display_name": "Python 3",
   "language": "python",
   "name": "python3"
  },
  "language_info": {
   "codemirror_mode": {
    "name": "ipython",
    "version": 3
   },
   "file_extension": ".py",
   "mimetype": "text/x-python",
   "name": "python",
   "nbconvert_exporter": "python",
   "pygments_lexer": "ipython3",
   "version": "3.7.6"
  }
 },
 "nbformat": 4,
 "nbformat_minor": 2
}
