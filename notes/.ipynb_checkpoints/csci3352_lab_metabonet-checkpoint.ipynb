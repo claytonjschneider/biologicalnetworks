{
 "cells": [
  {
   "cell_type": "markdown",
   "metadata": {},
   "source": [
    "# CSCI 3352 Biological Networks, Spring 2021, Prof. Clauset"
   ]
  },
  {
   "cell_type": "markdown",
   "metadata": {},
   "source": [
    "# In-class lab : metabolic network structure\n",
    "\n",
    "***\n",
    "\n",
    "**Team names**: \n",
    "\n",
    "***\n",
    "\n",
    "This is an in-class \"laboratory,\" in which you will explore the structure of metabolic networks.\n",
    "\n",
    "***\n",
    "* [Documentation for networkx](https://networkx.github.io/documentation/stable/)\n",
    "\n",
    "[//]: <> (Documentation for igraph Python https://igraph.org/python/ )"
   ]
  },
  {
   "cell_type": "code",
   "execution_count": 1,
   "metadata": {},
   "outputs": [],
   "source": [
    "import networkx as nx\n",
    "import numpy as np\n",
    "import matplotlib\n",
    "import matplotlib.pylab as plt\n",
    "%matplotlib inline\n",
    "import random as rnd\n",
    "rnd.seed()"
   ]
  },
  {
   "cell_type": "markdown",
   "metadata": {},
   "source": [
    "Here are three functions that will be useful as you complete this lab"
   ]
  },
  {
   "cell_type": "code",
   "execution_count": 2,
   "metadata": {},
   "outputs": [],
   "source": [
    "def plot_CCDF(kis):\n",
    "    # from PS5\n",
    "    # input : a list of degrees, e.g., from a networkx graph G\n",
    "    # output: a plot of the CCDF of the degree distribution Pr(K>=k) for k>=1\n",
    "    \n",
    "    kmax = max(kis)\n",
    "\n",
    "    # histogram and plot\n",
    "    counts, bins = np.histogram(kis, bins=[i for i in range(kmax+2)], density=True)\n",
    "    cumcounts = np.cumsum(counts)\n",
    "    cumcounts = np.insert(cumcounts,0,0)\n",
    "    plt.loglog(bins[1:-1], 1-cumcounts[1:-1], 'rs', alpha=0.5)\n",
    "    plt.xlabel('Degree, k')\n",
    "    plt.ylabel('Pr(K>=k)')\n",
    "    plt.show()\n",
    "    return\n",
    "\n",
    "def compute_MGD(G):\n",
    "    # from PS3\n",
    "    # input : a networkx graph G\n",
    "    # output: the mean geodesic path length (defined in Lecture 2)\n",
    "\n",
    "    dij = dict(nx.all_pairs_shortest_path_length(G)) # APSP on G, store as a dictionary (tricky :)\n",
    "\n",
    "    ells = []                            # list of non-zero and non-infinite lengths\n",
    "    for node in dij:                     # loop over all the nodes\n",
    "        temp = list(dij[node].values())  #   get the list of distances\n",
    "        for length in temp:              #     for each of those distances\n",
    "            if length>0:                 #     ignore if =0\n",
    "                ells.append(length)      #     otherwise, add it to ells\n",
    "                \n",
    "    ellmean = np.mean(ells)              # MGD = numpy mean of ells list\n",
    "    return ellmean"
   ]
  },
  {
   "cell_type": "code",
   "execution_count": 22,
   "metadata": {},
   "outputs": [],
   "source": [
    "def draw_G(G):\n",
    "    # input : a networkx graph G\n",
    "    # output: a spring-plot of the network\n",
    "\n",
    "    print(f'graph with n={G.order()} nodes and m={G.size()} edges:')\n",
    "    nx.draw_networkx(G,with_labels=True,node_size=600,width=2) # draw it pretty\n",
    "    limits=plt.axis('off')                                     # turn off axes\n",
    "    plt.show()\n",
    "    return"
   ]
  },
  {
   "cell_type": "markdown",
   "metadata": {},
   "source": [
    "***\n",
    "## Part 1 : KEGG metabolic networks\n",
    "\n",
    "In this experiment, you'll explore the structure of a corpus of 109 metabolic networks of various species (mostly bacteria), extracted from the [KEGG database](https://www.genome.jp/kegg/kegg1.html). These networks are in the form of `substrate-product graphs`, meaning that nodes are chemical compounds, and we connect each input (substrate) to each output (product) that it produces in an enzymatic reaction. (See Lecture sketch 9 for what this means.)\n",
    "\n",
    "* Visit the _Index of Complex Networks_ and find the entry titled `Metabolic networks from KEGG (2006)`.\n",
    "* Download the .zip file, which contains 109 \".pairs\" edgelist files."
   ]
  },
  {
   "cell_type": "markdown",
   "metadata": {},
   "source": [
    "#### Part 1,a: Summary statistics\n",
    "* Pick one of the metabolic networks to work with first. If you'd like to check what kind of organism it is, use a browser query like this `https://www.genome.jp/kegg-bin/show_organism?org=tpa` where `tpa` is the 3-letter code of your organism contained in the file name.\n",
    "* Compute the standard summary statistics\n",
    "  * number of nodes $n$\n",
    "  * (undirected) edges $m$\n",
    "  * mean degree $\\langle k \\rangle$\n",
    "  * clustering coefficient $C$\n",
    "  * mean geodesic distance $\\langle \\ell \\rangle$\n",
    "  * a `ridiculogram` of the network, using a spring layout\n",
    "  * the CCDF of the degree distribution\n",
    "* Discuss with your teammates whether this network exhibits any noteworthy or unusual statistical patterns based on the above first-level analysis. Record your insights in the markdown box below.\n",
    "\n",
    "Hint: use the provided functions `draw_G()`, `plot_CCDF()`, and `compute_MGD()`."
   ]
  },
  {
   "cell_type": "code",
   "execution_count": 23,
   "metadata": {},
   "outputs": [],
   "source": [
    "G = nx.read_edgelist(\"kegg2006_metabolic/kegg2006_metabolic/links_afu\")"
   ]
  },
  {
   "cell_type": "code",
   "execution_count": 24,
   "metadata": {},
   "outputs": [
    {
     "name": "stdout",
     "output_type": "stream",
     "text": [
      "909 nodes 2058 edges 4.528052805280528 mean degree 0.03644229105381554 clustering coefficient 3.50725995695603 MGD\n"
     ]
    }
   ],
   "source": [
    "n = len(G.nodes)\n",
    "m = len(G.edges)\n",
    "k = 2*m / n\n",
    "C = nx.transitivity(G)\n",
    "ell = compute_MGD(G)\n",
    "\n",
    "print(n, \"nodes\", m, \"edges\", k, \"mean degree\", C, \"clustering coefficient\", ell, \"MGD\")"
   ]
  },
  {
   "cell_type": "code",
   "execution_count": 36,
   "metadata": {},
   "outputs": [
    {
     "data": {
      "image/png": "[encoded data removed]",
      "text/plain": [
       "<Figure size 432x288 with 1 Axes>"
      ]
     },
     "metadata": {},
     "output_type": "display_data"
    }
   ],
   "source": [
    "options = {\n",
    "    'node_color': 'blue',\n",
    "    'node_size': 5,\n",
    "    'width': 1\n",
    "}\n",
    "\n",
    "plt.title(\"Random\")\n",
    "nx.draw_spring(G, **options)"
   ]
  },
  {
   "cell_type": "code",
   "execution_count": 37,
   "metadata": {},
   "outputs": [
    {
     "data": {
      "image/png": "[encoded data removed]",
      "text/plain": [
       "<Figure size 432x288 with 1 Axes>"
      ]
     },
     "metadata": {
      "needs_background": "light"
     },
     "output_type": "display_data"
    }
   ],
   "source": [
    "plot_CCDF([G.degree(n) for n in G.nodes()])"
   ]
  },
  {
   "cell_type": "markdown",
   "metadata": {},
   "source": [
    "Your `Part 1,a` discussion here:\n",
    "\n",
    "Locally tree-like"
   ]
  },
  {
   "cell_type": "markdown",
   "metadata": {},
   "source": [
    "****"
   ]
  },
  {
   "cell_type": "markdown",
   "metadata": {},
   "source": [
    "#### Part 1,b: Edge density null\n",
    "* Use the same network from `Part 1,a`\n",
    "* Use a correctly parameterized Erdos-Renyi random graph model $G(n,p)$ to generate null distributions for\n",
    "  * clustering coefficient $C$\n",
    "  * mean geodesic distance $\\langle \\ell \\rangle$\n",
    "* Plot these two distributions, and for each add a vertical line to your plot for the empirical values\n",
    "* Discuss with your teammates the degree to which _edge density alone_ \"explains\" the observed properties of your metabolic network.\n",
    "\n",
    "Hint 1: See your or my solutions for Problem Set 3, and remember that `networkx` has builtin functions for generating ER graphs.\n",
    "\n",
    "Hint 2: use the `plot_nullAndEmpirical()` function from `PS3` to make the plot."
   ]
  },
  {
   "cell_type": "code",
   "execution_count": 39,
   "metadata": {},
   "outputs": [],
   "source": [
    "Ger = nx.fast_gnp_random_graph(n, k/(n-1), seed=None, directed=False)"
   ]
  },
  {
   "cell_type": "code",
   "execution_count": 41,
   "metadata": {},
   "outputs": [
    {
     "name": "stdout",
     "output_type": "stream",
     "text": [
      "clustering coefficient 0.005711725837159816 MGD 4.730339616896622\n"
     ]
    }
   ],
   "source": [
    "Cer = nx.transitivity(Ger)\n",
    "eller = compute_MGD(Ger)\n",
    "\n",
    "print(\"clustering coefficient\", Cer, \"MGD\", eller)"
   ]
  },
  {
   "cell_type": "code",
   "execution_count": null,
   "metadata": {},
   "outputs": [],
   "source": [
    "Cs   = []  # store the null values of C here\n",
    "ells = []  # store the null values of ellmean here\n",
    "##### do not modify above here #####\n",
    "\n",
    "p = m / (np.math.factorial(n) / (np.math.factorial(2)*np.math.factorial(n-2)))\n",
    "print(p)\n",
    "\n",
    "for i in range(200):\n",
    "    rG = nx.fast_gnp_random_graph(n, p)\n",
    "    Cs.append(nx.transitivity(rG))\n",
    "    ells.append(compute_MGD(rG))\n",
    "\n",
    "##### do not modify below here #####\n",
    "plot_nullAndEmpirical(Cs,C,'C','Erdos-Renyi graphs','P. pacificus',0.5,0.12)\n",
    "plot_nullAndEmpirical(ells,ell,'<ell>','Erdos-Renyi graphs','P. pacificus',5,0.022)"
   ]
  },
  {
   "cell_type": "markdown",
   "metadata": {},
   "source": [
    "Your `Part 1,b` discussion here"
   ]
  },
  {
   "cell_type": "markdown",
   "metadata": {},
   "source": [
    "****"
   ]
  },
  {
   "cell_type": "markdown",
   "metadata": {},
   "source": [
    "#### Part 1,c: Degree distribution null\n",
    "* Use the same network from `Part 1,a`\n",
    "* Use a correctly parameterized Chung-Lu random graph model $G(n,\\vec{k})$ to generate null distributions for\n",
    "  * clustering coefficient $C$\n",
    "  * mean geodesic distance $\\langle \\ell \\rangle$\n",
    "* Plot these two distributions, and for each add a vertical line to your plot for the empirical values\n",
    "* Discuss with your teammates the degree to which _degree structure alone_ \"explains\" the observed properties of your metabolic network. Contrast this with your answer in `Part 1,b`\n",
    "\n",
    "Hint: See your or my solutions for Problem Set 3"
   ]
  },
  {
   "cell_type": "markdown",
   "metadata": {},
   "source": [
    "Your `Part 1,c` discussion here"
   ]
  },
  {
   "cell_type": "markdown",
   "metadata": {},
   "source": [
    "****"
   ]
  },
  {
   "cell_type": "markdown",
   "metadata": {},
   "source": [
    "#### Part 1,d: Go big\n",
    "* Now, import _all 109_ (or as many as you can manage) metabolic networks\n",
    "* For each, compute and plot a _distribution_ (density histogram) of the following:\n",
    "  * number of nodes $n$\n",
    "  * (undirected) edges $m$\n",
    "  * mean degree $\\langle k \\rangle$\n",
    "  * clustering coefficient $C$\n",
    "  * mean geodesic distance $\\langle \\ell \\rangle$\n",
    "* Discuss with your teammates what these distributions tell you about the variability of structure in metabolic networks. Record your insights in the markdown box below.\n",
    "\n",
    "Hint: if you compare bacterial, fungal, plant, and human metabolic networks, can you spot obvious differences?"
   ]
  },
  {
   "cell_type": "markdown",
   "metadata": {},
   "source": [
    "##### Your `Part 1,d` discussion here"
   ]
  },
  {
   "cell_type": "markdown",
   "metadata": {},
   "source": [
    "****"
   ]
  },
  {
   "cell_type": "markdown",
   "metadata": {},
   "source": [
    "#### Part 1,e: Metabolism across the tree of life\n",
    "* Given the distribution of metabolic network properties from `Part 1,d`, choose a few points that look interesting (unusual) or un-interesting (typical) and look up the corresponding organisms via their three-letter code.\n",
    "* Formulate a hypothesis about how these statistics may or may not vary across the taxonomic classifications of organisms. For instance, do bacteria have smaller, more compact, more or less triangles, etc. than archea or eukaryotes? Etc.\n",
    "* Think about how _why_ there might be variations in metabolic network structure across organisms, and how you might further test this hypothesis."
   ]
  },
  {
   "cell_type": "markdown",
   "metadata": {},
   "source": [
    "Your `Part 1,e` discussion here"
   ]
  },
  {
   "cell_type": "markdown",
   "metadata": {},
   "source": [
    "****"
   ]
  },
  {
   "cell_type": "code",
   "execution_count": null,
   "metadata": {},
   "outputs": [],
   "source": []
  }
 ],
 "metadata": {
  "kernelspec": {
   "display_name": "Python 3",
   "language": "python",
   "name": "python3"
  },
  "language_info": {
   "codemirror_mode": {
    "name": "ipython",
    "version": 3
   },
   "file_extension": ".py",
   "mimetype": "text/x-python",
   "name": "python",
   "nbconvert_exporter": "python",
   "pygments_lexer": "ipython3",
   "version": "3.8.5"
  }
 },
 "nbformat": 4,
 "nbformat_minor": 4
}
