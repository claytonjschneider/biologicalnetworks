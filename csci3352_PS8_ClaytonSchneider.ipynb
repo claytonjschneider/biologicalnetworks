{
 "cells": [
  {
   "cell_type": "markdown",
   "metadata": {},
   "source": [
    "# CSCI 3352 Biological Networks, Spring 2021, Prof. Clauset\n",
    "Submit here: https://canvas.colorado.edu/courses/69236"
   ]
  },
  {
   "cell_type": "markdown",
   "metadata": {},
   "source": [
    "# Problem Set 8 : Protein Interaction Networks\n",
    "\n",
    "***\n",
    "\n",
    "**Name**: Clayton Schneider\n",
    "\n",
    "***\n",
    "\n",
    "This assignment is due on Canvas by **11:55pm on Friday, March 19th**. Your solutions to non-programming questions should be done in Markdown directly below the associated question. Your solutions to computational questions should include any specified Python code and results as well as written commentary on your conclusions.  Remember that you are encouraged to discuss the problems with your classmates, but **you must write all code and solutions on your own** (see syllabus for detailed guidance). There are 70 points total, and 15 pts extra credit.\n",
    "\n",
    "**NOTES**: \n",
    "\n",
    "- Unless a url is given for a data set, you will find the required data on the course Canvas.\n",
    "- If you're not familiar with typesetting math directly in Markdown, you may do your work on paper first and then typeset it later. This [reference guide](https://math.meta.stackexchange.com/questions/5020/mathjax-basic-tutorial-and-quick-reference) provides helpful guidance for writing math in Markdown. \n",
    "- It is **unhelpful** to make your reader interpret numerical output from your code.  If a question asks you to compute some value from the data you should show your code output **AND** write a summary of the results in Markdown directly below your code.\n",
    "\n",
    "***\n",
    "* [Documentation for networkx](https://networkx.github.io/documentation/stable/)\n",
    "\n",
    "[//]: <> (Documentation for igraph Python https://igraph.org/python/ )"
   ]
  },
  {
   "cell_type": "code",
   "execution_count": 1,
   "metadata": {},
   "outputs": [],
   "source": [
    "import networkx as nx\n",
    "import numpy as np\n",
    "import matplotlib\n",
    "import matplotlib.pylab as plt\n",
    "\n",
    "%matplotlib inline"
   ]
  },
  {
   "cell_type": "code",
   "execution_count": 2,
   "metadata": {},
   "outputs": [],
   "source": [
    "def drawGz(G,z):\n",
    "    # DO NOT MODIFY THIS FUNCTION\n",
    "    # This function draws G with node labels from partition z\n",
    "    #\n",
    "    # input  : G is a networkx graph\n",
    "    #        : z is a dictionary of group labels for G's nodes\n",
    "    # output : none\n",
    "    # \n",
    "    # WARNING: function is optimistic: assumes inputs are properly formatted\n",
    "\n",
    "    colors = ['#d61111','#11c6d6','#d67711','#11d646','#1b11d6','#d611cc'] # map node labels to colors (for the visualization)\n",
    "\n",
    "    node_colors = []\n",
    "    for i in G.nodes():\n",
    "        node_colors.append(colors[int(z[i])])\n",
    "    nsize  = 600\n",
    "    flabel = True\n",
    "\n",
    "    if G.order() > 50:\n",
    "        nsize  = 100\n",
    "        flabel = False\n",
    "        \n",
    "    nx.draw_networkx(G,with_labels=flabel,node_size=nsize,width=2,node_color=node_colors) # draw it pretty\n",
    "    limits=plt.axis('off')                                      # turn off axes\n",
    "    plt.show() \n",
    "\n",
    "    return"
   ]
  },
  {
   "cell_type": "markdown",
   "metadata": {},
   "source": [
    "***\n",
    "## Problem 1 : Warm ups (20 pts total)\n",
    "\n",
    "Three warm up exercises, with some new network statistics."
   ]
  },
  {
   "cell_type": "markdown",
   "metadata": {},
   "source": [
    "### Problem 1-A (5 pts) : Participation coefficient\n",
    "\n",
    "The *participation coefficient* $P_i$ is a node-level measure for how much of a node's connectivity is directed inside or outside the module it sits in. This measure was introduced in Guimera et al. \"[Functional cartography of complex\n",
    "metabolic networks.](https://www.nature.com/articles/nature03288)\" *Nature* **433** (2005). The mathematical form of $P_i$ was chosen to that $P_i\\approx1$ if $i$'s connections are distributed evenly among the modules, and $P_i\\approx0$ if $i$'s connections are entirely to nodes in one module (typically its own). You can think of a node's \"participation\" as measuring how much it participates in *other* modules; hence, a low participation coefficient means *not* connecting to many other modules. It's defined as\n",
    "\n",
    "$P_i = 1 - \\sum_{s=1}^c \\left(g_{i,s}\\left/k_i\\right. \\right)^2$\n",
    "\n",
    "where $s$ runs over the list of groups, $k_i$ is the degree of node $i$, and the variable $g_{i,s}$ counts the number of connections that node $i$ has to any nodes in group $s$, like this:\n",
    "\n",
    "$g_{i,s} = \\sum_j A_{ij}\\delta_{s,z_j}$\n",
    "\n",
    "* For the example graph below (same one as in PS6), calculate by hand the participation coefficients for nodes $0$, $3$, and $5$. Show your work."
   ]
  },
  {
   "cell_type": "code",
   "execution_count": 3,
   "metadata": {},
   "outputs": [
    {
     "data": {
      "image/png": "[encoded data removed]",
      "text/plain": [
       "<Figure size 432x288 with 1 Axes>"
      ]
     },
     "metadata": {},
     "output_type": "display_data"
    }
   ],
   "source": [
    "G = nx.Graph([(0,1),(0,2),(0,5),(0,6),(0,7),(0,8),(2,3),(2,5),(4,5),(3,5)]) # a simple graph G\n",
    "z = {0: 0, 1: 0, 2: 1, 3: 1, 4: 1, 5: 1, 6: 0, 7: 0, 8: 0}                  # a partition of G into 2 groups\n",
    "\n",
    "drawGz(G,z)"
   ]
  },
  {
   "cell_type": "markdown",
   "metadata": {},
   "source": [
    "$ A_0 = \\{1, 2, 5, 6, 7, 8 \\} \\rightarrow \\{0, 1, 1, 0, 0, 0\\} $\n",
    "\n",
    "$ g_{0,0} = 4 $, $ g_{0,1} = 2 $, $ k_0 = 6 $\n",
    "\n",
    "$ P_0 = 1 - \\sum_{s=0}^1 (g_{i,s} / k_i )^2 $\n",
    "\n",
    "$ P_0 = 1 - \\Big(\\big(\\frac{4}{6}\\big)^2 + \\big(\\frac{2}{6}\\big)^2\\Big) = \\frac{4}{9} $\n",
    "\n",
    "</br>\n",
    "\n",
    "$ A_3 = \\{2, 5 \\} \\rightarrow \\{1, 1 \\} $\n",
    "\n",
    "$ g_{3,0} = 0 $, $ g_{3,1} = 2 $, $ k_3 = 2 $\n",
    "\n",
    "$ P_3 = 1 - \\sum_{s=0}^1 (g_{i,s} / k_i )^2 $\n",
    "\n",
    "$ P_3 = 1 - \\Big(\\big(\\frac{0}{2}\\big)^2 + \\big(\\frac{2}{2}\\big)^2\\Big) = 0 $\n",
    "\n",
    "</br>\n",
    "\n",
    "$ A_5 = \\{0, 2, 3, 4 \\} \\rightarrow \\{0, 1, 1, 1 \\} $\n",
    "\n",
    "$ g_{5,0} = 1 $, $ g_{5,1} = 3 $, $ k_5 = 4 $\n",
    "\n",
    "$ P_5 = 1 - \\sum_{s=0}^1 (g_{i,s} / k_i )^2 $\n",
    "\n",
    "$ P_5 = 1 - \\Big(\\big(\\frac{1}{4}\\big)^2 + \\big(\\frac{3}{4}\\big)^2\\Big) = \\frac{3}{8} $"
   ]
  },
  {
   "cell_type": "markdown",
   "metadata": {},
   "source": [
    "### Problem 1-B (5 pts) : Degree $z$-score\n",
    "\n",
    "Depending on whether a node is higher or lower degree, it may \"participate\" more or less in the modular structure of the network:\n",
    "\n",
    "1. A _high-degree_ node with a _low participation_ score is one firmly anchored within its own module, because most of its many connects are to other nodes in its module.\n",
    "* A _high-degree_ node with a _high participation_ score is one that connects to many other modules.\n",
    "* Similarly, a _low-degree_ node with a _high participation_ score is likely a kind of \"bridge\" between a small number of different modules.\n",
    "* And, a _low-degree_ node with a _low participation_ score is likely a peripheral node within its module.\n",
    "\n",
    "Because it varies by network what the natural \"scale\" is by which to say a node is high or low degree, we'll use a simple $z$-score to make the distinction. That is, if a node's degree is above average, we'll call it high degree, and we'll say how high degree it is based on how far out in the tail it is. This degree $z$-score is defined thus:\n",
    "\n",
    "$z_i = \\Big(k_i - \\langle k \\rangle\\Big)\\left/\\sigma_k\\right.$\n",
    "\n",
    "where $k_i$ is the degree of node $i$, $\\langle k \\rangle$ is the mean degree in the network, and $\\sigma_k$ is the standard deviation of the degrees in the network. $z_i$ thus measures how many standards deviations node $i$'s degree is above or below the mean.\n",
    "\n",
    "* For the example graph above, calculate by hand the degree $z$-scores for nodes $0$, $3$, and $5$. Show your work.\n",
    "\n",
    "Hint: Be sure to use the [corrected standard deviation](https://en.wikipedia.org/wiki/Standard_deviation#Corrected_sample_standard_deviation) rather than the uncorrected one."
   ]
  },
  {
   "cell_type": "markdown",
   "metadata": {},
   "source": [
    "$ \\langle k \\rangle = \\frac{20}{9} $, $ \\sigma_k = 1.68508343201 $\n",
    "\n",
    "$ z_0 = \\big(6 - \\frac{20}{9}\\big) \\big/ 1.68508343201 = 1.3140 $\n",
    "\n",
    "$ z_3 = \\big(2 - \\frac{20}{9}\\big) \\big/ 1.68508343201 = -0.0773 $\n",
    "\n",
    "$ z_5 = \\big(4 - \\frac{20}{9}\\big) \\big/ 1.68508343201 = 0.6184 $"
   ]
  },
  {
   "cell_type": "markdown",
   "metadata": {},
   "source": [
    "### Problem 1-C (10 pts) : Warm up, by code\n",
    "\n",
    "* Now write two functions:\n",
    "  * `calculate_Participation()`, which takes as input a graph $G$, a partition $z$, and a node choice $i$, and returns the participation coefficient $P_i$, and\n",
    "  * `calculate_DegreezScore()`, which takes as input a graph $G$, and a node choice $i$, and returns the degree $z$-score $z_i$.\n",
    "* Then apply those functions to verify that you did the by-hand calculations in `Problem 1-A` and `1-B` correctly.\n",
    "\n",
    "Hint: See the Hint in `Problem 1-B`. Note that the default in `numpy` is the uncorrected estimator."
   ]
  },
  {
   "cell_type": "code",
   "execution_count": 11,
   "metadata": {},
   "outputs": [],
   "source": [
    "def calculate_Participation(G,z,i):\n",
    "    # This function calculates the participation coefficient of node i, given graph G and partition z\n",
    "    #\n",
    "    # input  : G, anetworkx simple graph with n nodes\n",
    "    #        : z is a dictionary of group labels for G's nodes\n",
    "    #        : i, a node in G\n",
    "    # output : P_i, the participation coefficient\n",
    "    # \n",
    "    # WARNING: function is optimistic: assumes inputs are properly formatted\n",
    "    \n",
    "    ### YOUR CODE (my code: 9 lines, plus return)\n",
    "    zis = [z[neighbor] for neighbor in G.neighbors(i)]\n",
    "    \n",
    "    gis = dict( [ (i, zis.count(i)) for i in set(zis) ] )\n",
    "    \n",
    "    return (1 - np.sum([(gis[gi]/G.degree(i))**2 for gi in gis]))"
   ]
  },
  {
   "cell_type": "code",
   "execution_count": 14,
   "metadata": {},
   "outputs": [],
   "source": [
    "def calculate_DegreezScore(G,i):\n",
    "    # This function calculates the degree z-score of node i, given graph G\n",
    "    #\n",
    "    # input  : G, anetworkx simple graph with n nodes\n",
    "    #        : i, a node in G\n",
    "    # output : z_i, the degree z-score\n",
    "    # \n",
    "    # WARNING: function is optimistic: assumes inputs are properly formatted\n",
    "    \n",
    "    ### YOUR CODE (my code: 5 lines, plus return)\n",
    "#     std_corrected = np.sqrt((np.sum([(G.degree(n) - np.mean(G.degree()))**2 for n in G.nodes()])) / (len(G.nodes()) - 1))\n",
    "    \n",
    "    std_corrected = 0\n",
    "    for n in G.nodes():\n",
    "        std_corrected += (G.degree(n) - (np.mean(G.degree())))**2\n",
    "    std_corrected /= (len(G.nodes) - 1)\n",
    "    \n",
    "    std_corrected = np.sqrt(std_corrected)\n",
    "    \n",
    "    print(std_corrected)\n",
    "    \n",
    "    return (G.degree(i) - np.mean(G.degree())) / std_corrected"
   ]
  },
  {
   "cell_type": "code",
   "execution_count": 15,
   "metadata": {},
   "outputs": [
    {
     "name": "stdout",
     "output_type": "stream",
     "text": [
      "2.0207259421636903\n",
      "P_0 = 0.4444444444444444\n",
      "z_0 = 1.4296292379933588\n",
      "\n",
      "2.0207259421636903\n",
      "P_3 = 0.0\n",
      "z_3 = -0.549857399228215\n",
      "\n",
      "2.0207259421636903\n",
      "P_5 = 0.375\n",
      "z_5 = 0.439885919382572\n",
      "\n"
     ]
    }
   ],
   "source": [
    "### DO NOT MODIFY THIS BLOCK\n",
    "Pi = calculate_Participation(G,z,0)\n",
    "zi = calculate_DegreezScore(G,0)\n",
    "print(f'P_0 = {Pi}\\nz_0 = {zi}\\n')\n",
    "\n",
    "Pi = calculate_Participation(G,z,3)\n",
    "zi = calculate_DegreezScore(G,3)\n",
    "print(f'P_3 = {Pi}\\nz_3 = {zi}\\n')\n",
    "\n",
    "Pi = calculate_Participation(G,z,5)\n",
    "zi = calculate_DegreezScore(G,5)\n",
    "print(f'P_5 = {Pi}\\nz_5 = {zi}\\n')"
   ]
  },
  {
   "cell_type": "markdown",
   "metadata": {},
   "source": [
    "***\n",
    "## Problem 2 : Structural roles in a PPIN (50 pts total)\n",
    "\n",
    "In this problem, you will\n",
    "- use the two functions from `Problem 1` to characterize the structural roles that different proteins play in a relatively recent (and thus relatively accurate) estimate of the human protein-protein interaction network (PPIN)\n",
    "- explore the biological functions of some particular nodes using the [Gene Ontology (GO)](http://geneontology.org) database.\n",
    "\n",
    "Because this PPIN is pretty large ($n=12,\\!250$ nodes), you won't be running your DC-SBM community detection code on it to obtain a partition $z$. That would take a rather long time. Instead, you'll use a partition produced by the DC-SBM implementation in [graph-tool](https://graph-tool.skewed.de).\n",
    "\n",
    "The PPIN dataset is derived from a _H. sapiens_ network produced by the [Yu lab](http://hint.yulab.org), which combines interaction data from multiple sources, including high-throughput experiments."
   ]
  },
  {
   "cell_type": "markdown",
   "metadata": {},
   "source": [
    "### Problem 2-A (15 pts) : Import the network and partition\n",
    "\n",
    "To begin, import the provided PPIN file `HINT_network.gml` as a `networkx` simple graph $G$, and extract as $z$ the partition included in the GML file.\n",
    "\n",
    "To do this, you'll need to figure out how to use `networkx` to read in the node attributes included in the GML. Each `node` object has two additional variables associated with it:\n",
    "* `mb` is the group label or community assigned to it by the DC-SBM (which returned $c=104$ groups), and \n",
    "* `ref_id` is an integer index that you'll use to look up the corresponding `gene.name` string of that node in `Problem 2-C`.\n",
    "\n",
    "For example:\n",
    "\n",
    "`   node [\n",
    "      id 1\n",
    "      mb 1\n",
    "      ref_id \"3727\"\n",
    "   ]`"
   ]
  },
  {
   "cell_type": "code",
   "execution_count": 42,
   "metadata": {},
   "outputs": [
    {
     "name": "stdout",
     "output_type": "stream",
     "text": [
      "reading the network file : HINT_network.gml\n",
      "\n",
      "number of nodes = 12250\n",
      "number of edges = 58445\n",
      "{'ref_id', 'mb'}\n"
     ]
    }
   ],
   "source": [
    "fname1 = 'HINT_network.gml'\n",
    "print(f'reading the network file : {fname1}\\n')\n",
    "G = nx.read_gml('./' + fname1, label='id')\n",
    "print(f'number of nodes = {G.order()}')\n",
    "print(f'number of edges = {G.size()}')\n",
    "\n",
    "# here are two clever tricks to see what node attributes G has, which I used to\n",
    "# verify that the nx.read_gml() function imported the node attributes properly\n",
    "# set(np.array([list(G.nodes[n].keys()) for n in G.nodes()]).flatten())\n",
    "print(set([k for n in G.nodes for k in G.nodes[n].keys()]))\n",
    "\n",
    "z = [G.nodes[node]['mb'] for node in G.nodes()]"
   ]
  },
  {
   "cell_type": "markdown",
   "metadata": {},
   "source": [
    "### Problem 2-B (15 pts) : Compute and plot $(P_i,z_i)$ pairs\n",
    "\n",
    "* First, compute and store a pair $(P_i,z_i)$ for each node $i$ in the PPIN.\n",
    "* Then, make a scatter plot of these values with the degree $z$-scores on the $y$-axis.\n",
    "* Discuss what you see. Be sure to highlight any unusual patterns, describe where \"most\" of the data sits, and articulate what this plot tells you about the organization of the PPIN."
   ]
  },
  {
   "cell_type": "code",
   "execution_count": null,
   "metadata": {},
   "outputs": [],
   "source": [
    "# YOUR CODE\n",
    "Pis = []\n",
    "zis = []\n",
    "\n",
    "for node in G.nodes:\n",
    "    Pis.append(calculate_Participation(G, z, node))\n",
    "    zis.append(calculate_DegreezScore(G, node))"
   ]
  },
  {
   "cell_type": "code",
   "execution_count": null,
   "metadata": {},
   "outputs": [],
   "source": [
    "plt.scatter(zis, Pis)\n",
    "plt.xtitle('Z values')\n",
    "plt.ytitle('Participation Coefficients')"
   ]
  },
  {
   "cell_type": "markdown",
   "metadata": {},
   "source": [
    "Your discussion"
   ]
  },
  {
   "cell_type": "markdown",
   "metadata": {},
   "source": [
    "### Problem 2-C (20 pts) : Dig into the details\n",
    "\n",
    "* Based on the scatter plot in `Problem 2-B`, pick out $10$ nodes that have unusual combinations of participation and degree $z$-scores. Try to choose a variety, if you can. In the markdown box below, make a markdown table with columns for\n",
    "  * `G.i` (the node's index in $G$),\n",
    "  * the corresponding `ref_id` value,\n",
    "  * the `gene.name` associated with that `ref_id` in the provided `all_hint_nodes_names` file, \n",
    "  * $P_i$,\n",
    "  * $z_i$,\n",
    "  * `GO terms`\n",
    "  * `GO URL`\n",
    "* Then, use the [Gene Ontology](http://geneontology.org) database to look up the GO class(es) associated with each, which tell us about which biological functions a protein is involved in. (When you do this, you'll want to select the \"Genes and gene products\" list of results, or click \"Gene products\" on the initial search.) \n",
    "* List some or all of these in the `GO terms` column (you may omit \"protein binding\", which is generic), and put the URL for the search results ([like this](http://amigo.geneontology.org/amigo/gene_product/UniProtKB:A2RU48)) in the `GO URL` column.\n",
    "* Finally, based on your small (and not statistically representative sample) discuss\n",
    "  1. whether there appears to be any correlation between biological function and either participation or degree $z$-score, and \n",
    "  * how you could test this hypothesis computationally. <br/>\n",
    "\n",
    "*(5 pts extra credit)* For doing $15$ nodes instead of $10$.\n",
    "\n",
    "Hint: When you look up the GO terms, make sure you select the version of the gene associated with *Homo sapiens*."
   ]
  },
  {
   "cell_type": "code",
   "execution_count": null,
   "metadata": {},
   "outputs": [],
   "source": [
    "# YOUR CODE "
   ]
  },
  {
   "cell_type": "markdown",
   "metadata": {},
   "source": [
    "Your answer"
   ]
  },
  {
   "cell_type": "markdown",
   "metadata": {},
   "source": [
    "***\n",
    "***\n",
    "\n",
    "## Problem 3 : Reading the literature (*10 pts extra credit*)\n",
    "\n",
    "Choose a paper from the [Supplemental Reading list on the external course webpage](http://tuvalu.santafe.edu/~aaronc/courses/3352/). Read the paper (the whole paper, not just the abstract). Think about what it says. Then, write 1-3 sentences for each of the following questions in a way that clearly summarizes the work, and its context.\n",
    "* What paper did you choose?\n",
    "* What was the research question?\n",
    "* What was the approach the authors took to answer that question?\n",
    "* What did they do well?\n",
    "* What could they have done better?\n",
    "* What extensions can you envision?\n",
    "\n",
    "\n",
    "Do not copy any text from the paper itself; write your own summary, in your own words in Markdown in the corresponding box below. Be sure to answer each of the five questions. The amount of extra credit will depend on the accuracy and thoughtfulness of your answers.\n",
    "\n",
    "Hint: This is a good way to generate some ideas for your class project (your proposal for that is due on **February 27th**. Also, even if you don't understand everything in the paper, that's okay. Do your best to summarize what you did understand."
   ]
  },
  {
   "cell_type": "markdown",
   "metadata": {},
   "source": [
    "* *What paper did you choose?*<br/>\n",
    "Give the Authors, Title, Publication Venue, Year\n",
    "<br/>\n",
    "\n",
    "* *What was the research question?*<br/>\n",
    "Your answer here\n",
    "<br/>\n",
    "\n",
    "* *What was the approach the authors took to answer that question?*<br/>\n",
    "Your answer here\n",
    "<br/>\n",
    "\n",
    "* *What did they do well?*<br/>\n",
    "Your answer here\n",
    "<br/>\n",
    "\n",
    "* *What could they have done better?*<br/>\n",
    "Your answer here\n",
    "<br/>\n",
    "\n",
    "* *What extensions can you envision?*<br/>\n",
    "Your answer here"
   ]
  },
  {
   "cell_type": "code",
   "execution_count": null,
   "metadata": {},
   "outputs": [],
   "source": []
  }
 ],
 "metadata": {
  "kernelspec": {
   "display_name": "Python 3",
   "language": "python",
   "name": "python3"
  },
  "language_info": {
   "codemirror_mode": {
    "name": "ipython",
    "version": 3
   },
   "file_extension": ".py",
   "mimetype": "text/x-python",
   "name": "python",
   "nbconvert_exporter": "python",
   "pygments_lexer": "ipython3",
   "version": "3.7.3"
  }
 },
 "nbformat": 4,
 "nbformat_minor": 4
}
